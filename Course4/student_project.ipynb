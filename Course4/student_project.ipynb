{
 "cells": [
  {
   "cell_type": "markdown",
   "metadata": {},
   "source": [
    "# Overview"
   ]
  },
  {
   "cell_type": "markdown",
   "metadata": {},
   "source": [
    "1. Project Instructions & Prerequisites\n",
    "2. Learning Objectives\n",
    "3. Data Preparation\n",
    "4. Create Categorical Features with TF Feature Columns\n",
    "5. Create Continuous/Numerical Features with TF Feature Columns\n",
    "6. Build Deep Learning Regression Model with Sequential API and TF Probability Layers\n",
    "7. Evaluating Potential Model Biases with Aequitas Toolkit\n"
   ]
  },
  {
   "cell_type": "markdown",
   "metadata": {},
   "source": [
    "#  1. Project Instructions & Prerequisites"
   ]
  },
  {
   "cell_type": "markdown",
   "metadata": {},
   "source": [
    "## Project Instructions"
   ]
  },
  {
   "cell_type": "markdown",
   "metadata": {},
   "source": [
    "**Context**: EHR data is becoming a key source of real-world evidence (RWE) for the pharmaceutical industry and regulators to [make decisions on clinical trials](https://www.fda.gov/news-events/speeches-fda-officials/breaking-down-barriers-between-clinical-trials-and-clinical-care-incorporating-real-world-evidence). You are a data scientist for an exciting unicorn healthcare startup that has created a groundbreaking diabetes drug that is ready for clinical trial testing. It is a very unique and sensitive drug that requires administering the drug over at least 5-7 days of time in the hospital with frequent monitoring/testing and patient medication adherence training with a mobile application. You have been provided a patient dataset from a client partner and are tasked with building a predictive model that can identify which type of patients the company should focus their efforts testing this drug on. Target patients are people that are likely to be in the hospital for this duration of time and will not incur significant additional costs for administering this drug to the patient and monitoring.  \n",
    "\n",
    "In order to achieve your goal you must build a regression model that can predict the estimated hospitalization time for a patient and use this to select/filter patients for your study.\n"
   ]
  },
  {
   "cell_type": "markdown",
   "metadata": {},
   "source": [
    "**Expected Hospitalization Time Regression Model:** Utilizing a synthetic dataset(denormalized at the line level augmentation) built off of the UCI Diabetes readmission dataset, students will build a regression model that predicts the expected days of hospitalization time and then convert this to a binary prediction of whether to include or exclude that patient from the clinical trial.\n",
    "\n",
    "This project will demonstrate the importance of building the right data representation at the encounter level, with appropriate filtering and preprocessing/feature engineering of key medical code sets. This project will also require students to analyze and interpret their model for biases across key demographic groups. \n",
    "\n",
    "Please see the project rubric online for more details on the areas your project will be evaluated."
   ]
  },
  {
   "cell_type": "markdown",
   "metadata": {},
   "source": [
    "### Dataset"
   ]
  },
  {
   "cell_type": "markdown",
   "metadata": {},
   "source": [
    "Due to healthcare PHI regulations (HIPAA, HITECH), there are limited number of publicly available datasets and some datasets require training and approval. So, for the purpose of this exercise, we are using a dataset from UC Irvine(https://archive.ics.uci.edu/ml/datasets/Diabetes+130-US+hospitals+for+years+1999-2008) that has been modified for this course. Please note that it is limited in its representation of some key features such as diagnosis codes which are usually an unordered list in 835s/837s (the HL7 standard interchange formats used for claims and remits)."
   ]
  },
  {
   "cell_type": "markdown",
   "metadata": {},
   "source": [
    "**Data Schema**\n",
    "The dataset reference information can be https://github.com/udacity/nd320-c1-emr-data-starter/blob/master/project/data_schema_references/\n",
    ". There are two CSVs that provide more details on the fields and some of the mapped values."
   ]
  },
  {
   "cell_type": "markdown",
   "metadata": {},
   "source": [
    "## Project Submission "
   ]
  },
  {
   "cell_type": "markdown",
   "metadata": {},
   "source": [
    "When submitting this project, make sure to run all the cells before saving the notebook. Save the notebook file as \"student_project_submission.ipynb\" and save another copy as an HTML file by clicking \"File\" -> \"Download as..\"->\"html\". Include the \"utils.py\" and \"student_utils.py\" files in your submission. The student_utils.py should be where you put most of your code that you write and the summary and text explanations should be written inline in the notebook. Once you download these files, compress them into one zip file for submission."
   ]
  },
  {
   "cell_type": "markdown",
   "metadata": {},
   "source": [
    "## Prerequisites "
   ]
  },
  {
   "cell_type": "markdown",
   "metadata": {},
   "source": [
    "- Intermediate level knowledge of Python\n",
    "- Basic knowledge of probability and statistics\n",
    "- Basic knowledge of machine learning concepts\n",
    "- Installation of Tensorflow 2.0 and other dependencies(conda environment.yml or virtualenv requirements.txt file provided)"
   ]
  },
  {
   "cell_type": "markdown",
   "metadata": {},
   "source": [
    "## Environment Setup"
   ]
  },
  {
   "cell_type": "markdown",
   "metadata": {},
   "source": [
    "For step by step instructions on creating your environment, please go to https://github.com/udacity/nd320-c1-emr-data-starter/blob/master/project/README.md."
   ]
  },
  {
   "cell_type": "markdown",
   "metadata": {},
   "source": [
    "# 2.  Learning Objectives"
   ]
  },
  {
   "cell_type": "markdown",
   "metadata": {},
   "source": [
    "By the end of the project, you will be able to \n",
    "   - Use the Tensorflow Dataset API to scalably extract, transform, and load datasets and build datasets aggregated at the line, encounter, and patient data levels(longitudinal)\n",
    "   - Analyze EHR datasets to check for common issues (data leakage, statistical properties, missing values, high cardinality) by performing exploratory data analysis.\n",
    "   - Create categorical features from Key Industry Code Sets (ICD, CPT, NDC) and reduce dimensionality for high cardinality features by using embeddings \n",
    "   - Create derived features(bucketing, cross-features, embeddings) utilizing Tensorflow feature columns on both continuous and categorical input features\n",
    "   - SWBAT use the Tensorflow Probability library to train a model that provides uncertainty range predictions that allow for risk adjustment/prioritization and triaging of predictions\n",
    "   - Analyze and determine biases for a model for key demographic groups by evaluating performance metrics across groups by using the Aequitas framework \n"
   ]
  },
  {
   "cell_type": "markdown",
   "metadata": {},
   "source": [
    "# 3. Data Preparation"
   ]
  },
  {
   "cell_type": "code",
   "execution_count": 1,
   "metadata": {
    "ExecuteTime": {
     "end_time": "2024-12-11T04:19:08.745081Z",
     "start_time": "2024-12-11T04:19:02.073554Z"
    }
   },
   "outputs": [],
   "source": [
    "# from __future__ import absolute_import, division, print_function, unicode_literals\n",
    "import os\n",
    "import numpy as np\n",
    "import tensorflow as tf\n",
    "from tensorflow.keras import layers\n",
    "import tensorflow_probability as tfp\n",
    "import matplotlib.pyplot as plt\n",
    "import pandas as pd\n",
    "import aequitas as ae\n",
    "# Put all the helper functions in utils\n",
    "import sys\n",
    "project_dir = os.path.abspath(r\"C:\\Code\\nd320-c1-emr-data-starter\\project\")\n",
    "starter_code_dir = os.path.join(project_dir, \"starter_code\")\n",
    "sys.path.append(starter_code_dir)\n",
    "from utils import *\n",
    "import seaborn as sns\n",
    "import matplotlib.pyplot as plt\n",
    "pd.set_option('display.max_columns', 500)\n",
    "# this allows you to make changes and save in student_utils.py and the file is reloaded every time you run a code block\n",
    "%load_ext autoreload\n",
    "%autoreload"
   ]
  },
  {
   "cell_type": "code",
   "execution_count": 2,
   "metadata": {
    "ExecuteTime": {
     "end_time": "2024-12-11T04:19:08.760592Z",
     "start_time": "2024-12-11T04:19:08.753592Z"
    }
   },
   "outputs": [],
   "source": [
    "#OPEN ISSUE ON MAC OSX for TF model training\n",
    "os.environ['KMP_DUPLICATE_LIB_OK']='True'"
   ]
  },
  {
   "cell_type": "markdown",
   "metadata": {},
   "source": [
    "## Dataset Loading and Schema Review"
   ]
  },
  {
   "cell_type": "markdown",
   "metadata": {},
   "source": [
    "Load the dataset and view a sample of the dataset along with reviewing the schema reference files to gain a deeper understanding of the dataset. The dataset is located at the following path https://github.com/udacity/nd320-c1-emr-data-starter/blob/master/project/starter_code/data/final_project_dataset.csv. Also, review the information found in the data schema https://github.com/udacity/nd320-c1-emr-data-starter/blob/master/project/data_schema_references/"
   ]
  },
  {
   "cell_type": "code",
   "execution_count": 3,
   "metadata": {
    "ExecuteTime": {
     "end_time": "2024-12-11T04:19:09.189935Z",
     "start_time": "2024-12-11T04:19:08.793591Z"
    }
   },
   "outputs": [],
   "source": [
    "dataset_path = os.path.join(starter_code_dir, \"data/final_project_dataset.csv\")\n",
    "df = pd.read_csv(dataset_path)"
   ]
  },
  {
   "cell_type": "code",
   "execution_count": 4,
   "metadata": {
    "ExecuteTime": {
     "end_time": "2024-12-11T04:19:09.251455Z",
     "start_time": "2024-12-11T04:19:09.222942Z"
    }
   },
   "outputs": [
    {
     "data": {
      "text/html": [
       "<div>\n",
       "<style scoped>\n",
       "    .dataframe tbody tr th:only-of-type {\n",
       "        vertical-align: middle;\n",
       "    }\n",
       "\n",
       "    .dataframe tbody tr th {\n",
       "        vertical-align: top;\n",
       "    }\n",
       "\n",
       "    .dataframe thead th {\n",
       "        text-align: right;\n",
       "    }\n",
       "</style>\n",
       "<table border=\"1\" class=\"dataframe\">\n",
       "  <thead>\n",
       "    <tr style=\"text-align: right;\">\n",
       "      <th></th>\n",
       "      <th>encounter_id</th>\n",
       "      <th>patient_nbr</th>\n",
       "      <th>race</th>\n",
       "      <th>gender</th>\n",
       "      <th>age</th>\n",
       "      <th>weight</th>\n",
       "      <th>admission_type_id</th>\n",
       "      <th>discharge_disposition_id</th>\n",
       "      <th>admission_source_id</th>\n",
       "      <th>time_in_hospital</th>\n",
       "      <th>payer_code</th>\n",
       "      <th>medical_specialty</th>\n",
       "      <th>primary_diagnosis_code</th>\n",
       "      <th>other_diagnosis_codes</th>\n",
       "      <th>number_outpatient</th>\n",
       "      <th>number_inpatient</th>\n",
       "      <th>number_emergency</th>\n",
       "      <th>num_lab_procedures</th>\n",
       "      <th>number_diagnoses</th>\n",
       "      <th>num_medications</th>\n",
       "      <th>num_procedures</th>\n",
       "      <th>ndc_code</th>\n",
       "      <th>max_glu_serum</th>\n",
       "      <th>A1Cresult</th>\n",
       "      <th>change</th>\n",
       "      <th>readmitted</th>\n",
       "    </tr>\n",
       "  </thead>\n",
       "  <tbody>\n",
       "    <tr>\n",
       "      <th>0</th>\n",
       "      <td>2278392</td>\n",
       "      <td>8222157</td>\n",
       "      <td>Caucasian</td>\n",
       "      <td>Female</td>\n",
       "      <td>[0-10)</td>\n",
       "      <td>?</td>\n",
       "      <td>6</td>\n",
       "      <td>25</td>\n",
       "      <td>1</td>\n",
       "      <td>1</td>\n",
       "      <td>?</td>\n",
       "      <td>Pediatrics-Endocrinology</td>\n",
       "      <td>250.83</td>\n",
       "      <td>?|?</td>\n",
       "      <td>0</td>\n",
       "      <td>0</td>\n",
       "      <td>0</td>\n",
       "      <td>41</td>\n",
       "      <td>1</td>\n",
       "      <td>1</td>\n",
       "      <td>0</td>\n",
       "      <td>NaN</td>\n",
       "      <td>None</td>\n",
       "      <td>None</td>\n",
       "      <td>No</td>\n",
       "      <td>NO</td>\n",
       "    </tr>\n",
       "    <tr>\n",
       "      <th>1</th>\n",
       "      <td>149190</td>\n",
       "      <td>55629189</td>\n",
       "      <td>Caucasian</td>\n",
       "      <td>Female</td>\n",
       "      <td>[10-20)</td>\n",
       "      <td>?</td>\n",
       "      <td>1</td>\n",
       "      <td>1</td>\n",
       "      <td>7</td>\n",
       "      <td>3</td>\n",
       "      <td>?</td>\n",
       "      <td>?</td>\n",
       "      <td>276</td>\n",
       "      <td>250.01|255</td>\n",
       "      <td>0</td>\n",
       "      <td>0</td>\n",
       "      <td>0</td>\n",
       "      <td>59</td>\n",
       "      <td>9</td>\n",
       "      <td>18</td>\n",
       "      <td>0</td>\n",
       "      <td>68071-1701</td>\n",
       "      <td>None</td>\n",
       "      <td>None</td>\n",
       "      <td>Ch</td>\n",
       "      <td>&gt;30</td>\n",
       "    </tr>\n",
       "    <tr>\n",
       "      <th>2</th>\n",
       "      <td>64410</td>\n",
       "      <td>86047875</td>\n",
       "      <td>AfricanAmerican</td>\n",
       "      <td>Female</td>\n",
       "      <td>[20-30)</td>\n",
       "      <td>?</td>\n",
       "      <td>1</td>\n",
       "      <td>1</td>\n",
       "      <td>7</td>\n",
       "      <td>2</td>\n",
       "      <td>?</td>\n",
       "      <td>?</td>\n",
       "      <td>648</td>\n",
       "      <td>250|V27</td>\n",
       "      <td>2</td>\n",
       "      <td>1</td>\n",
       "      <td>0</td>\n",
       "      <td>11</td>\n",
       "      <td>6</td>\n",
       "      <td>13</td>\n",
       "      <td>5</td>\n",
       "      <td>0378-1110</td>\n",
       "      <td>None</td>\n",
       "      <td>None</td>\n",
       "      <td>No</td>\n",
       "      <td>NO</td>\n",
       "    </tr>\n",
       "    <tr>\n",
       "      <th>3</th>\n",
       "      <td>500364</td>\n",
       "      <td>82442376</td>\n",
       "      <td>Caucasian</td>\n",
       "      <td>Male</td>\n",
       "      <td>[30-40)</td>\n",
       "      <td>?</td>\n",
       "      <td>1</td>\n",
       "      <td>1</td>\n",
       "      <td>7</td>\n",
       "      <td>2</td>\n",
       "      <td>?</td>\n",
       "      <td>?</td>\n",
       "      <td>8</td>\n",
       "      <td>250.43|403</td>\n",
       "      <td>0</td>\n",
       "      <td>0</td>\n",
       "      <td>0</td>\n",
       "      <td>44</td>\n",
       "      <td>7</td>\n",
       "      <td>16</td>\n",
       "      <td>1</td>\n",
       "      <td>68071-1701</td>\n",
       "      <td>None</td>\n",
       "      <td>None</td>\n",
       "      <td>Ch</td>\n",
       "      <td>NO</td>\n",
       "    </tr>\n",
       "    <tr>\n",
       "      <th>4</th>\n",
       "      <td>16680</td>\n",
       "      <td>42519267</td>\n",
       "      <td>Caucasian</td>\n",
       "      <td>Male</td>\n",
       "      <td>[40-50)</td>\n",
       "      <td>?</td>\n",
       "      <td>1</td>\n",
       "      <td>1</td>\n",
       "      <td>7</td>\n",
       "      <td>1</td>\n",
       "      <td>?</td>\n",
       "      <td>?</td>\n",
       "      <td>197</td>\n",
       "      <td>157|250</td>\n",
       "      <td>0</td>\n",
       "      <td>0</td>\n",
       "      <td>0</td>\n",
       "      <td>51</td>\n",
       "      <td>5</td>\n",
       "      <td>8</td>\n",
       "      <td>0</td>\n",
       "      <td>0049-4110</td>\n",
       "      <td>None</td>\n",
       "      <td>None</td>\n",
       "      <td>Ch</td>\n",
       "      <td>NO</td>\n",
       "    </tr>\n",
       "  </tbody>\n",
       "</table>\n",
       "</div>"
      ],
      "text/plain": [
       "   encounter_id  patient_nbr             race  gender      age weight  \\\n",
       "0       2278392      8222157        Caucasian  Female   [0-10)      ?   \n",
       "1        149190     55629189        Caucasian  Female  [10-20)      ?   \n",
       "2         64410     86047875  AfricanAmerican  Female  [20-30)      ?   \n",
       "3        500364     82442376        Caucasian    Male  [30-40)      ?   \n",
       "4         16680     42519267        Caucasian    Male  [40-50)      ?   \n",
       "\n",
       "   admission_type_id  discharge_disposition_id  admission_source_id  \\\n",
       "0                  6                        25                    1   \n",
       "1                  1                         1                    7   \n",
       "2                  1                         1                    7   \n",
       "3                  1                         1                    7   \n",
       "4                  1                         1                    7   \n",
       "\n",
       "   time_in_hospital payer_code         medical_specialty  \\\n",
       "0                 1          ?  Pediatrics-Endocrinology   \n",
       "1                 3          ?                         ?   \n",
       "2                 2          ?                         ?   \n",
       "3                 2          ?                         ?   \n",
       "4                 1          ?                         ?   \n",
       "\n",
       "  primary_diagnosis_code other_diagnosis_codes  number_outpatient  \\\n",
       "0                 250.83                   ?|?                  0   \n",
       "1                    276            250.01|255                  0   \n",
       "2                    648               250|V27                  2   \n",
       "3                      8            250.43|403                  0   \n",
       "4                    197               157|250                  0   \n",
       "\n",
       "   number_inpatient  number_emergency  num_lab_procedures  number_diagnoses  \\\n",
       "0                 0                 0                  41                 1   \n",
       "1                 0                 0                  59                 9   \n",
       "2                 1                 0                  11                 6   \n",
       "3                 0                 0                  44                 7   \n",
       "4                 0                 0                  51                 5   \n",
       "\n",
       "   num_medications  num_procedures    ndc_code max_glu_serum A1Cresult change  \\\n",
       "0                1               0         NaN          None      None     No   \n",
       "1               18               0  68071-1701          None      None     Ch   \n",
       "2               13               5   0378-1110          None      None     No   \n",
       "3               16               1  68071-1701          None      None     Ch   \n",
       "4                8               0   0049-4110          None      None     Ch   \n",
       "\n",
       "  readmitted  \n",
       "0         NO  \n",
       "1        >30  \n",
       "2         NO  \n",
       "3         NO  \n",
       "4         NO  "
      ]
     },
     "execution_count": 4,
     "metadata": {},
     "output_type": "execute_result"
    }
   ],
   "source": [
    "df.head()"
   ]
  },
  {
   "cell_type": "code",
   "execution_count": 5,
   "metadata": {
    "ExecuteTime": {
     "end_time": "2024-12-11T04:19:09.623071Z",
     "start_time": "2024-12-11T04:19:09.597066Z"
    }
   },
   "outputs": [
    {
     "name": "stdout",
     "output_type": "stream",
     "text": [
      "Dataset could be at the line level\n",
      "Unique encounters: 101766\n",
      "Original dataset shape: (143424, 26)\n"
     ]
    }
   ],
   "source": [
    "# Level Test\n",
    "if len(df) > df['encounter_id'].nunique():\n",
    "    print(\"Dataset could be at the line level\")\n",
    "elif len(df) == df['encounter_id'].nunique():\n",
    "    print(\"Dataset could be at the encounter level\")\n",
    "\n",
    "print(f\"Unique encounters: {df['encounter_id'].nunique()}\")\n",
    "print(f\"Original dataset shape: {df.shape}\")"
   ]
  },
  {
   "cell_type": "markdown",
   "metadata": {},
   "source": [
    "## Determine Level of Dataset (Line or Encounter)"
   ]
  },
  {
   "cell_type": "markdown",
   "metadata": {},
   "source": [
    "**Question 1**: Based off of analysis of the data, what level is this dataset? Is it at the line or encounter level? Are there any key fields besides the encounter_id and patient_nbr fields that we should use to aggregate on? Knowing this information will help inform us what level of aggregation is necessary for future steps and is a step that is often overlooked. "
   ]
  },
  {
   "cell_type": "markdown",
   "metadata": {},
   "source": [
    "Student Response: The dataset appears to be at the line level. The key fields that should be used to aggregate on are encounter_id, patient_nbr, and primary_diagnosis_code."
   ]
  },
  {
   "cell_type": "markdown",
   "metadata": {},
   "source": [
    "## Analyze Dataset"
   ]
  },
  {
   "cell_type": "markdown",
   "metadata": {},
   "source": [
    "**Question 2**: Utilizing the library of your choice (recommend Pandas and Seaborn or matplotlib though), perform exploratory data analysis on the dataset. In particular be sure to address the following questions:  \n",
    "    - a. Field(s) with high amount of missing/zero values\n",
    "    - b. Based off the frequency histogram for each numerical field, which numerical field(s) has/have a Gaussian(normal) distribution shape?\n",
    "    - c. Which field(s) have high cardinality and why (HINT: ndc_code is one feature)\n",
    "    - d. Please describe the demographic distributions in the dataset for the age and gender fields.\n",
    "    \n"
   ]
  },
  {
   "cell_type": "markdown",
   "metadata": {},
   "source": [
    "**OPTIONAL**: Use the Tensorflow Data Validation and Analysis library to complete. \n",
    "- The Tensorflow Data Validation and Analysis library(https://www.tensorflow.org/tfx/data_validation/get_started) is a useful tool for analyzing and summarizing dataset statistics. It is especially useful because it can scale to large datasets that do not fit into memory. \n",
    "- Note that there are some bugs that are still being resolved with Chrome v80 and we have moved away from using this for the project."
   ]
  },
  {
   "cell_type": "markdown",
   "metadata": {},
   "source": [
    "**Student Response**:\n",
    "- a. The field with a high amount of missing values is **ndc_code**. The fields with a high amount of zero fields are **number_outpatient**, **number_inpatient**, **number_emergency**, and **num_procedures**.\n",
    "- b. The numerical fields with a normal distribution shape are **num_medications** and **num_lab_procedures**.\n",
    "- c. The fields with a high cardinality are **primary_diagnosis_code**, **other_diagnosis_codes**, and **ndc_code**. These fields have high cardinality because they contain a large number of unique values.  **primary_diagnosis_code** and **other_diagnosis_codes** have many values because there are many different diagnosis codes. **ndc_code** has many values because there are many different National Drug Codes.\n",
    "- d. The distribution of age is a normal distribution centered around age 70. The distribution of gender < age 70 is fairly uniform, while the distribution of gender > age 70 has a higher proportion of females."
   ]
  },
  {
   "cell_type": "code",
   "execution_count": 6,
   "metadata": {
    "ExecuteTime": {
     "end_time": "2024-12-11T04:19:10.373938Z",
     "start_time": "2024-12-11T04:19:10.032842Z"
    }
   },
   "outputs": [
    {
     "data": {
      "text/html": [
       "<div>\n",
       "<style scoped>\n",
       "    .dataframe tbody tr th:only-of-type {\n",
       "        vertical-align: middle;\n",
       "    }\n",
       "\n",
       "    .dataframe tbody tr th {\n",
       "        vertical-align: top;\n",
       "    }\n",
       "\n",
       "    .dataframe thead th {\n",
       "        text-align: right;\n",
       "    }\n",
       "</style>\n",
       "<table border=\"1\" class=\"dataframe\">\n",
       "  <thead>\n",
       "    <tr style=\"text-align: right;\">\n",
       "      <th></th>\n",
       "      <th>total_null</th>\n",
       "      <th>total_zero</th>\n",
       "    </tr>\n",
       "  </thead>\n",
       "  <tbody>\n",
       "    <tr>\n",
       "      <th>encounter_id</th>\n",
       "      <td>0</td>\n",
       "      <td>0</td>\n",
       "    </tr>\n",
       "    <tr>\n",
       "      <th>patient_nbr</th>\n",
       "      <td>0</td>\n",
       "      <td>0</td>\n",
       "    </tr>\n",
       "    <tr>\n",
       "      <th>race</th>\n",
       "      <td>0</td>\n",
       "      <td>0</td>\n",
       "    </tr>\n",
       "    <tr>\n",
       "      <th>gender</th>\n",
       "      <td>0</td>\n",
       "      <td>0</td>\n",
       "    </tr>\n",
       "    <tr>\n",
       "      <th>age</th>\n",
       "      <td>0</td>\n",
       "      <td>0</td>\n",
       "    </tr>\n",
       "    <tr>\n",
       "      <th>weight</th>\n",
       "      <td>0</td>\n",
       "      <td>0</td>\n",
       "    </tr>\n",
       "    <tr>\n",
       "      <th>admission_type_id</th>\n",
       "      <td>0</td>\n",
       "      <td>0</td>\n",
       "    </tr>\n",
       "    <tr>\n",
       "      <th>discharge_disposition_id</th>\n",
       "      <td>0</td>\n",
       "      <td>0</td>\n",
       "    </tr>\n",
       "    <tr>\n",
       "      <th>admission_source_id</th>\n",
       "      <td>0</td>\n",
       "      <td>0</td>\n",
       "    </tr>\n",
       "    <tr>\n",
       "      <th>time_in_hospital</th>\n",
       "      <td>0</td>\n",
       "      <td>0</td>\n",
       "    </tr>\n",
       "    <tr>\n",
       "      <th>payer_code</th>\n",
       "      <td>0</td>\n",
       "      <td>0</td>\n",
       "    </tr>\n",
       "    <tr>\n",
       "      <th>medical_specialty</th>\n",
       "      <td>0</td>\n",
       "      <td>0</td>\n",
       "    </tr>\n",
       "    <tr>\n",
       "      <th>primary_diagnosis_code</th>\n",
       "      <td>0</td>\n",
       "      <td>0</td>\n",
       "    </tr>\n",
       "    <tr>\n",
       "      <th>other_diagnosis_codes</th>\n",
       "      <td>0</td>\n",
       "      <td>0</td>\n",
       "    </tr>\n",
       "    <tr>\n",
       "      <th>number_outpatient</th>\n",
       "      <td>0</td>\n",
       "      <td>120027</td>\n",
       "    </tr>\n",
       "    <tr>\n",
       "      <th>number_inpatient</th>\n",
       "      <td>0</td>\n",
       "      <td>96698</td>\n",
       "    </tr>\n",
       "    <tr>\n",
       "      <th>number_emergency</th>\n",
       "      <td>0</td>\n",
       "      <td>127444</td>\n",
       "    </tr>\n",
       "    <tr>\n",
       "      <th>num_lab_procedures</th>\n",
       "      <td>0</td>\n",
       "      <td>0</td>\n",
       "    </tr>\n",
       "    <tr>\n",
       "      <th>number_diagnoses</th>\n",
       "      <td>0</td>\n",
       "      <td>0</td>\n",
       "    </tr>\n",
       "    <tr>\n",
       "      <th>num_medications</th>\n",
       "      <td>0</td>\n",
       "      <td>0</td>\n",
       "    </tr>\n",
       "    <tr>\n",
       "      <th>num_procedures</th>\n",
       "      <td>0</td>\n",
       "      <td>65788</td>\n",
       "    </tr>\n",
       "    <tr>\n",
       "      <th>ndc_code</th>\n",
       "      <td>23462</td>\n",
       "      <td>0</td>\n",
       "    </tr>\n",
       "    <tr>\n",
       "      <th>max_glu_serum</th>\n",
       "      <td>0</td>\n",
       "      <td>0</td>\n",
       "    </tr>\n",
       "    <tr>\n",
       "      <th>A1Cresult</th>\n",
       "      <td>0</td>\n",
       "      <td>0</td>\n",
       "    </tr>\n",
       "    <tr>\n",
       "      <th>change</th>\n",
       "      <td>0</td>\n",
       "      <td>0</td>\n",
       "    </tr>\n",
       "    <tr>\n",
       "      <th>readmitted</th>\n",
       "      <td>0</td>\n",
       "      <td>0</td>\n",
       "    </tr>\n",
       "  </tbody>\n",
       "</table>\n",
       "</div>"
      ],
      "text/plain": [
       "                          total_null  total_zero\n",
       "encounter_id                       0           0\n",
       "patient_nbr                        0           0\n",
       "race                               0           0\n",
       "gender                             0           0\n",
       "age                                0           0\n",
       "weight                             0           0\n",
       "admission_type_id                  0           0\n",
       "discharge_disposition_id           0           0\n",
       "admission_source_id                0           0\n",
       "time_in_hospital                   0           0\n",
       "payer_code                         0           0\n",
       "medical_specialty                  0           0\n",
       "primary_diagnosis_code             0           0\n",
       "other_diagnosis_codes              0           0\n",
       "number_outpatient                  0      120027\n",
       "number_inpatient                   0       96698\n",
       "number_emergency                   0      127444\n",
       "num_lab_procedures                 0           0\n",
       "number_diagnoses                   0           0\n",
       "num_medications                    0           0\n",
       "num_procedures                     0       65788\n",
       "ndc_code                       23462           0\n",
       "max_glu_serum                      0           0\n",
       "A1Cresult                          0           0\n",
       "change                             0           0\n",
       "readmitted                         0           0"
      ]
     },
     "execution_count": 6,
     "metadata": {},
     "output_type": "execute_result"
    }
   ],
   "source": [
    "# EDA\n",
    "# First, let's check for missing/zero values\n",
    "check_zero_or_null_values(df)"
   ]
  },
  {
   "cell_type": "code",
   "execution_count": 7,
   "metadata": {
    "ExecuteTime": {
     "end_time": "2024-12-11T04:19:11.155723Z",
     "start_time": "2024-12-11T04:19:11.138076Z"
    }
   },
   "outputs": [],
   "source": [
    "######NOTE: The visualization will only display in Chrome browser. ########\n",
    "#full_data_stats = tfdv.generate_statistics_from_csv(data_location='./data/final_project_dataset.csv')\n",
    "#tfdv.visualize_statistics(full_data_stats)"
   ]
  },
  {
   "cell_type": "code",
   "execution_count": 8,
   "metadata": {
    "ExecuteTime": {
     "end_time": "2024-12-11T04:19:11.749188Z",
     "start_time": "2024-12-11T04:19:11.730680Z"
    }
   },
   "outputs": [
    {
     "data": {
      "text/plain": [
       "encounter_id                 int64\n",
       "patient_nbr                  int64\n",
       "race                        object\n",
       "gender                      object\n",
       "age                         object\n",
       "weight                      object\n",
       "admission_type_id            int64\n",
       "discharge_disposition_id     int64\n",
       "admission_source_id          int64\n",
       "time_in_hospital             int64\n",
       "payer_code                  object\n",
       "medical_specialty           object\n",
       "primary_diagnosis_code      object\n",
       "other_diagnosis_codes       object\n",
       "number_outpatient            int64\n",
       "number_inpatient             int64\n",
       "number_emergency             int64\n",
       "num_lab_procedures           int64\n",
       "number_diagnoses             int64\n",
       "num_medications              int64\n",
       "num_procedures               int64\n",
       "ndc_code                    object\n",
       "max_glu_serum               object\n",
       "A1Cresult                   object\n",
       "change                      object\n",
       "readmitted                  object\n",
       "dtype: object"
      ]
     },
     "execution_count": 8,
     "metadata": {},
     "output_type": "execute_result"
    }
   ],
   "source": [
    "df.dtypes"
   ]
  },
  {
   "cell_type": "code",
   "execution_count": 9,
   "metadata": {
    "ExecuteTime": {
     "end_time": "2024-12-11T04:19:15.188741Z",
     "start_time": "2024-12-11T04:19:12.191890Z"
    }
   },
   "outputs": [
    {
     "data": {
      "image/png": "[encoded data removed]",
      "text/plain": [
       "<Figure size 1500x1000 with 16 Axes>"
      ]
     },
     "metadata": {},
     "output_type": "display_data"
    }
   ],
   "source": [
    "df.select_dtypes(include=['float64', 'int64']).hist(figsize=(15, 10), bins=50, xlabelsize=8, ylabelsize=8);"
   ]
  },
  {
   "cell_type": "code",
   "execution_count": 10,
   "metadata": {
    "ExecuteTime": {
     "end_time": "2024-12-11T04:19:23.045425Z",
     "start_time": "2024-12-11T04:19:22.941268Z"
    }
   },
   "outputs": [
    {
     "data": {
      "text/html": [
       "<div>\n",
       "<style scoped>\n",
       "    .dataframe tbody tr th:only-of-type {\n",
       "        vertical-align: middle;\n",
       "    }\n",
       "\n",
       "    .dataframe tbody tr th {\n",
       "        vertical-align: top;\n",
       "    }\n",
       "\n",
       "    .dataframe thead th {\n",
       "        text-align: right;\n",
       "    }\n",
       "</style>\n",
       "<table border=\"1\" class=\"dataframe\">\n",
       "  <thead>\n",
       "    <tr style=\"text-align: right;\">\n",
       "      <th></th>\n",
       "      <th>columns</th>\n",
       "      <th>cardinality</th>\n",
       "    </tr>\n",
       "  </thead>\n",
       "  <tbody>\n",
       "    <tr>\n",
       "      <th>race</th>\n",
       "      <td>race</td>\n",
       "      <td>6</td>\n",
       "    </tr>\n",
       "    <tr>\n",
       "      <th>gender</th>\n",
       "      <td>gender</td>\n",
       "      <td>3</td>\n",
       "    </tr>\n",
       "    <tr>\n",
       "      <th>age</th>\n",
       "      <td>age</td>\n",
       "      <td>10</td>\n",
       "    </tr>\n",
       "    <tr>\n",
       "      <th>weight</th>\n",
       "      <td>weight</td>\n",
       "      <td>10</td>\n",
       "    </tr>\n",
       "    <tr>\n",
       "      <th>payer_code</th>\n",
       "      <td>payer_code</td>\n",
       "      <td>18</td>\n",
       "    </tr>\n",
       "    <tr>\n",
       "      <th>medical_specialty</th>\n",
       "      <td>medical_specialty</td>\n",
       "      <td>73</td>\n",
       "    </tr>\n",
       "    <tr>\n",
       "      <th>primary_diagnosis_code</th>\n",
       "      <td>primary_diagnosis_code</td>\n",
       "      <td>717</td>\n",
       "    </tr>\n",
       "    <tr>\n",
       "      <th>other_diagnosis_codes</th>\n",
       "      <td>other_diagnosis_codes</td>\n",
       "      <td>19374</td>\n",
       "    </tr>\n",
       "    <tr>\n",
       "      <th>ndc_code</th>\n",
       "      <td>ndc_code</td>\n",
       "      <td>251</td>\n",
       "    </tr>\n",
       "    <tr>\n",
       "      <th>max_glu_serum</th>\n",
       "      <td>max_glu_serum</td>\n",
       "      <td>4</td>\n",
       "    </tr>\n",
       "    <tr>\n",
       "      <th>A1Cresult</th>\n",
       "      <td>A1Cresult</td>\n",
       "      <td>4</td>\n",
       "    </tr>\n",
       "    <tr>\n",
       "      <th>change</th>\n",
       "      <td>change</td>\n",
       "      <td>2</td>\n",
       "    </tr>\n",
       "    <tr>\n",
       "      <th>readmitted</th>\n",
       "      <td>readmitted</td>\n",
       "      <td>3</td>\n",
       "    </tr>\n",
       "  </tbody>\n",
       "</table>\n",
       "</div>"
      ],
      "text/plain": [
       "                                       columns  cardinality\n",
       "race                                      race            6\n",
       "gender                                  gender            3\n",
       "age                                        age           10\n",
       "weight                                  weight           10\n",
       "payer_code                          payer_code           18\n",
       "medical_specialty            medical_specialty           73\n",
       "primary_diagnosis_code  primary_diagnosis_code          717\n",
       "other_diagnosis_codes    other_diagnosis_codes        19374\n",
       "ndc_code                              ndc_code          251\n",
       "max_glu_serum                    max_glu_serum            4\n",
       "A1Cresult                            A1Cresult            4\n",
       "change                                  change            2\n",
       "readmitted                          readmitted            3"
      ]
     },
     "execution_count": 10,
     "metadata": {},
     "output_type": "execute_result"
    }
   ],
   "source": [
    "# High cardinality fields\n",
    "categorical_feature_list = [c for c in df.columns if df[c].dtype == 'object']\n",
    "val_df = count_unique_values(df, categorical_feature_list)\n",
    "val_df"
   ]
  },
  {
   "cell_type": "code",
   "execution_count": 11,
   "metadata": {},
   "outputs": [
    {
     "data": {
      "image/png": "[encoded data removed]",
      "text/plain": [
       "<Figure size 640x480 with 1 Axes>"
      ]
     },
     "metadata": {},
     "output_type": "display_data"
    }
   ],
   "source": [
    "# Examine demographic distributions\n",
    "sns.countplot(x=\"age\", hue=\"gender\", data=df);"
   ]
  },
  {
   "cell_type": "code",
   "execution_count": 12,
   "metadata": {},
   "outputs": [
    {
     "data": {
      "image/png": "[encoded data removed]",
      "text/plain": [
       "<Figure size 640x480 with 1 Axes>"
      ]
     },
     "metadata": {},
     "output_type": "display_data"
    }
   ],
   "source": [
    "sns.countplot(x=\"race\", hue=\"gender\", data=df, );"
   ]
  },
  {
   "cell_type": "markdown",
   "metadata": {},
   "source": [
    "## Reduce Dimensionality of the NDC Code Feature"
   ]
  },
  {
   "cell_type": "markdown",
   "metadata": {},
   "source": [
    "**Question 3**: NDC codes are a common format to represent the wide variety of drugs that are prescribed for patient care in the United States. The challenge is that there are many codes that map to the same or similar drug. You are provided with the ndc drug lookup file https://github.com/udacity/nd320-c1-emr-data-starter/blob/master/project/data_schema_references/ndc_lookup_table.csv derived from the National Drug Codes List site(https://ndclist.com/). Please use this file to come up with a way to reduce the dimensionality of this field and create a new field in the dataset called \"generic_drug_name\" in the output dataframe. "
   ]
  },
  {
   "cell_type": "code",
   "execution_count": 13,
   "metadata": {},
   "outputs": [
    {
     "data": {
      "text/html": [
       "<div>\n",
       "<style scoped>\n",
       "    .dataframe tbody tr th:only-of-type {\n",
       "        vertical-align: middle;\n",
       "    }\n",
       "\n",
       "    .dataframe tbody tr th {\n",
       "        vertical-align: top;\n",
       "    }\n",
       "\n",
       "    .dataframe thead th {\n",
       "        text-align: right;\n",
       "    }\n",
       "</style>\n",
       "<table border=\"1\" class=\"dataframe\">\n",
       "  <thead>\n",
       "    <tr style=\"text-align: right;\">\n",
       "      <th></th>\n",
       "      <th>NDC_Code</th>\n",
       "      <th>Proprietary Name</th>\n",
       "      <th>Non-proprietary Name</th>\n",
       "      <th>Dosage Form</th>\n",
       "      <th>Route Name</th>\n",
       "      <th>Company Name</th>\n",
       "      <th>Product Type</th>\n",
       "    </tr>\n",
       "  </thead>\n",
       "  <tbody>\n",
       "    <tr>\n",
       "      <th>0</th>\n",
       "      <td>0087-6060</td>\n",
       "      <td>Glucophage</td>\n",
       "      <td>Metformin Hydrochloride</td>\n",
       "      <td>Tablet, Film Coated</td>\n",
       "      <td>Oral</td>\n",
       "      <td>Bristol-myers Squibb Company</td>\n",
       "      <td>Human Prescription Drug</td>\n",
       "    </tr>\n",
       "    <tr>\n",
       "      <th>1</th>\n",
       "      <td>0087-6063</td>\n",
       "      <td>Glucophage XR</td>\n",
       "      <td>Metformin Hydrochloride</td>\n",
       "      <td>Tablet, Extended Release</td>\n",
       "      <td>Oral</td>\n",
       "      <td>Bristol-myers Squibb Company</td>\n",
       "      <td>Human Prescription Drug</td>\n",
       "    </tr>\n",
       "    <tr>\n",
       "      <th>2</th>\n",
       "      <td>0087-6064</td>\n",
       "      <td>Glucophage XR</td>\n",
       "      <td>Metformin Hydrochloride</td>\n",
       "      <td>Tablet, Extended Release</td>\n",
       "      <td>Oral</td>\n",
       "      <td>Bristol-myers Squibb Company</td>\n",
       "      <td>Human Prescription Drug</td>\n",
       "    </tr>\n",
       "    <tr>\n",
       "      <th>3</th>\n",
       "      <td>0087-6070</td>\n",
       "      <td>Glucophage</td>\n",
       "      <td>Metformin Hydrochloride</td>\n",
       "      <td>Tablet, Film Coated</td>\n",
       "      <td>Oral</td>\n",
       "      <td>Bristol-myers Squibb Company</td>\n",
       "      <td>Human Prescription Drug</td>\n",
       "    </tr>\n",
       "    <tr>\n",
       "      <th>4</th>\n",
       "      <td>0087-6071</td>\n",
       "      <td>Glucophage</td>\n",
       "      <td>Metformin Hydrochloride</td>\n",
       "      <td>Tablet, Film Coated</td>\n",
       "      <td>Oral</td>\n",
       "      <td>Bristol-myers Squibb Company</td>\n",
       "      <td>Human Prescription Drug</td>\n",
       "    </tr>\n",
       "  </tbody>\n",
       "</table>\n",
       "</div>"
      ],
      "text/plain": [
       "    NDC_Code Proprietary Name     Non-proprietary Name  \\\n",
       "0  0087-6060       Glucophage  Metformin Hydrochloride   \n",
       "1  0087-6063    Glucophage XR  Metformin Hydrochloride   \n",
       "2  0087-6064    Glucophage XR  Metformin Hydrochloride   \n",
       "3  0087-6070       Glucophage  Metformin Hydrochloride   \n",
       "4  0087-6071       Glucophage  Metformin Hydrochloride   \n",
       "\n",
       "                Dosage Form Route Name                  Company Name  \\\n",
       "0       Tablet, Film Coated       Oral  Bristol-myers Squibb Company   \n",
       "1  Tablet, Extended Release       Oral  Bristol-myers Squibb Company   \n",
       "2  Tablet, Extended Release       Oral  Bristol-myers Squibb Company   \n",
       "3       Tablet, Film Coated       Oral  Bristol-myers Squibb Company   \n",
       "4       Tablet, Film Coated       Oral  Bristol-myers Squibb Company   \n",
       "\n",
       "              Product Type  \n",
       "0  Human Prescription Drug  \n",
       "1  Human Prescription Drug  \n",
       "2  Human Prescription Drug  \n",
       "3  Human Prescription Drug  \n",
       "4  Human Prescription Drug  "
      ]
     },
     "execution_count": 13,
     "metadata": {},
     "output_type": "execute_result"
    }
   ],
   "source": [
    "#NDC code lookup file\n",
    "ndc_code_path = os.path.join(starter_code_dir, \"medication_lookup_tables/final_ndc_lookup_table\")\n",
    "ndc_code_df = pd.read_csv(ndc_code_path)\n",
    "ndc_code_df.head()"
   ]
  },
  {
   "cell_type": "code",
   "execution_count": 14,
   "metadata": {},
   "outputs": [],
   "source": [
    "from student_utils import reduce_dimension_ndc"
   ]
  },
  {
   "cell_type": "code",
   "execution_count": 15,
   "metadata": {},
   "outputs": [
    {
     "data": {
      "text/html": [
       "<div>\n",
       "<style scoped>\n",
       "    .dataframe tbody tr th:only-of-type {\n",
       "        vertical-align: middle;\n",
       "    }\n",
       "\n",
       "    .dataframe tbody tr th {\n",
       "        vertical-align: top;\n",
       "    }\n",
       "\n",
       "    .dataframe thead th {\n",
       "        text-align: right;\n",
       "    }\n",
       "</style>\n",
       "<table border=\"1\" class=\"dataframe\">\n",
       "  <thead>\n",
       "    <tr style=\"text-align: right;\">\n",
       "      <th></th>\n",
       "      <th>encounter_id</th>\n",
       "      <th>patient_nbr</th>\n",
       "      <th>race</th>\n",
       "      <th>gender</th>\n",
       "      <th>age</th>\n",
       "      <th>weight</th>\n",
       "      <th>admission_type_id</th>\n",
       "      <th>discharge_disposition_id</th>\n",
       "      <th>admission_source_id</th>\n",
       "      <th>time_in_hospital</th>\n",
       "      <th>payer_code</th>\n",
       "      <th>medical_specialty</th>\n",
       "      <th>primary_diagnosis_code</th>\n",
       "      <th>other_diagnosis_codes</th>\n",
       "      <th>number_outpatient</th>\n",
       "      <th>number_inpatient</th>\n",
       "      <th>number_emergency</th>\n",
       "      <th>num_lab_procedures</th>\n",
       "      <th>number_diagnoses</th>\n",
       "      <th>num_medications</th>\n",
       "      <th>num_procedures</th>\n",
       "      <th>ndc_code</th>\n",
       "      <th>max_glu_serum</th>\n",
       "      <th>A1Cresult</th>\n",
       "      <th>change</th>\n",
       "      <th>readmitted</th>\n",
       "      <th>generic_drug_name</th>\n",
       "    </tr>\n",
       "  </thead>\n",
       "  <tbody>\n",
       "    <tr>\n",
       "      <th>0</th>\n",
       "      <td>2278392</td>\n",
       "      <td>8222157</td>\n",
       "      <td>Caucasian</td>\n",
       "      <td>Female</td>\n",
       "      <td>[0-10)</td>\n",
       "      <td>?</td>\n",
       "      <td>6</td>\n",
       "      <td>25</td>\n",
       "      <td>1</td>\n",
       "      <td>1</td>\n",
       "      <td>?</td>\n",
       "      <td>Pediatrics-Endocrinology</td>\n",
       "      <td>250.83</td>\n",
       "      <td>?|?</td>\n",
       "      <td>0</td>\n",
       "      <td>0</td>\n",
       "      <td>0</td>\n",
       "      <td>41</td>\n",
       "      <td>1</td>\n",
       "      <td>1</td>\n",
       "      <td>0</td>\n",
       "      <td>NaN</td>\n",
       "      <td>None</td>\n",
       "      <td>None</td>\n",
       "      <td>No</td>\n",
       "      <td>NO</td>\n",
       "      <td>NaN</td>\n",
       "    </tr>\n",
       "    <tr>\n",
       "      <th>1</th>\n",
       "      <td>149190</td>\n",
       "      <td>55629189</td>\n",
       "      <td>Caucasian</td>\n",
       "      <td>Female</td>\n",
       "      <td>[10-20)</td>\n",
       "      <td>?</td>\n",
       "      <td>1</td>\n",
       "      <td>1</td>\n",
       "      <td>7</td>\n",
       "      <td>3</td>\n",
       "      <td>?</td>\n",
       "      <td>?</td>\n",
       "      <td>276</td>\n",
       "      <td>250.01|255</td>\n",
       "      <td>0</td>\n",
       "      <td>0</td>\n",
       "      <td>0</td>\n",
       "      <td>59</td>\n",
       "      <td>9</td>\n",
       "      <td>18</td>\n",
       "      <td>0</td>\n",
       "      <td>68071-1701</td>\n",
       "      <td>None</td>\n",
       "      <td>None</td>\n",
       "      <td>Ch</td>\n",
       "      <td>&gt;30</td>\n",
       "      <td>Human Insulin</td>\n",
       "    </tr>\n",
       "    <tr>\n",
       "      <th>2</th>\n",
       "      <td>64410</td>\n",
       "      <td>86047875</td>\n",
       "      <td>AfricanAmerican</td>\n",
       "      <td>Female</td>\n",
       "      <td>[20-30)</td>\n",
       "      <td>?</td>\n",
       "      <td>1</td>\n",
       "      <td>1</td>\n",
       "      <td>7</td>\n",
       "      <td>2</td>\n",
       "      <td>?</td>\n",
       "      <td>?</td>\n",
       "      <td>648</td>\n",
       "      <td>250|V27</td>\n",
       "      <td>2</td>\n",
       "      <td>1</td>\n",
       "      <td>0</td>\n",
       "      <td>11</td>\n",
       "      <td>6</td>\n",
       "      <td>13</td>\n",
       "      <td>5</td>\n",
       "      <td>0378-1110</td>\n",
       "      <td>None</td>\n",
       "      <td>None</td>\n",
       "      <td>No</td>\n",
       "      <td>NO</td>\n",
       "      <td>Glipizide</td>\n",
       "    </tr>\n",
       "    <tr>\n",
       "      <th>3</th>\n",
       "      <td>500364</td>\n",
       "      <td>82442376</td>\n",
       "      <td>Caucasian</td>\n",
       "      <td>Male</td>\n",
       "      <td>[30-40)</td>\n",
       "      <td>?</td>\n",
       "      <td>1</td>\n",
       "      <td>1</td>\n",
       "      <td>7</td>\n",
       "      <td>2</td>\n",
       "      <td>?</td>\n",
       "      <td>?</td>\n",
       "      <td>8</td>\n",
       "      <td>250.43|403</td>\n",
       "      <td>0</td>\n",
       "      <td>0</td>\n",
       "      <td>0</td>\n",
       "      <td>44</td>\n",
       "      <td>7</td>\n",
       "      <td>16</td>\n",
       "      <td>1</td>\n",
       "      <td>68071-1701</td>\n",
       "      <td>None</td>\n",
       "      <td>None</td>\n",
       "      <td>Ch</td>\n",
       "      <td>NO</td>\n",
       "      <td>Human Insulin</td>\n",
       "    </tr>\n",
       "    <tr>\n",
       "      <th>4</th>\n",
       "      <td>16680</td>\n",
       "      <td>42519267</td>\n",
       "      <td>Caucasian</td>\n",
       "      <td>Male</td>\n",
       "      <td>[40-50)</td>\n",
       "      <td>?</td>\n",
       "      <td>1</td>\n",
       "      <td>1</td>\n",
       "      <td>7</td>\n",
       "      <td>1</td>\n",
       "      <td>?</td>\n",
       "      <td>?</td>\n",
       "      <td>197</td>\n",
       "      <td>157|250</td>\n",
       "      <td>0</td>\n",
       "      <td>0</td>\n",
       "      <td>0</td>\n",
       "      <td>51</td>\n",
       "      <td>5</td>\n",
       "      <td>8</td>\n",
       "      <td>0</td>\n",
       "      <td>0049-4110</td>\n",
       "      <td>None</td>\n",
       "      <td>None</td>\n",
       "      <td>Ch</td>\n",
       "      <td>NO</td>\n",
       "      <td>Glipizide</td>\n",
       "    </tr>\n",
       "  </tbody>\n",
       "</table>\n",
       "</div>"
      ],
      "text/plain": [
       "   encounter_id  patient_nbr             race  gender      age weight  \\\n",
       "0       2278392      8222157        Caucasian  Female   [0-10)      ?   \n",
       "1        149190     55629189        Caucasian  Female  [10-20)      ?   \n",
       "2         64410     86047875  AfricanAmerican  Female  [20-30)      ?   \n",
       "3        500364     82442376        Caucasian    Male  [30-40)      ?   \n",
       "4         16680     42519267        Caucasian    Male  [40-50)      ?   \n",
       "\n",
       "   admission_type_id  discharge_disposition_id  admission_source_id  \\\n",
       "0                  6                        25                    1   \n",
       "1                  1                         1                    7   \n",
       "2                  1                         1                    7   \n",
       "3                  1                         1                    7   \n",
       "4                  1                         1                    7   \n",
       "\n",
       "   time_in_hospital payer_code         medical_specialty  \\\n",
       "0                 1          ?  Pediatrics-Endocrinology   \n",
       "1                 3          ?                         ?   \n",
       "2                 2          ?                         ?   \n",
       "3                 2          ?                         ?   \n",
       "4                 1          ?                         ?   \n",
       "\n",
       "  primary_diagnosis_code other_diagnosis_codes  number_outpatient  \\\n",
       "0                 250.83                   ?|?                  0   \n",
       "1                    276            250.01|255                  0   \n",
       "2                    648               250|V27                  2   \n",
       "3                      8            250.43|403                  0   \n",
       "4                    197               157|250                  0   \n",
       "\n",
       "   number_inpatient  number_emergency  num_lab_procedures  number_diagnoses  \\\n",
       "0                 0                 0                  41                 1   \n",
       "1                 0                 0                  59                 9   \n",
       "2                 1                 0                  11                 6   \n",
       "3                 0                 0                  44                 7   \n",
       "4                 0                 0                  51                 5   \n",
       "\n",
       "   num_medications  num_procedures    ndc_code max_glu_serum A1Cresult change  \\\n",
       "0                1               0         NaN          None      None     No   \n",
       "1               18               0  68071-1701          None      None     Ch   \n",
       "2               13               5   0378-1110          None      None     No   \n",
       "3               16               1  68071-1701          None      None     Ch   \n",
       "4                8               0   0049-4110          None      None     Ch   \n",
       "\n",
       "  readmitted generic_drug_name  \n",
       "0         NO               NaN  \n",
       "1        >30     Human Insulin  \n",
       "2         NO         Glipizide  \n",
       "3         NO     Human Insulin  \n",
       "4         NO         Glipizide  "
      ]
     },
     "execution_count": 15,
     "metadata": {},
     "output_type": "execute_result"
    }
   ],
   "source": [
    "reduce_dim_df = reduce_dimension_ndc(df, ndc_code_df)\n",
    "reduce_dim_df.head()\n"
   ]
  },
  {
   "cell_type": "code",
   "execution_count": 16,
   "metadata": {},
   "outputs": [],
   "source": [
    "# Number of unique values should be less for the new output field\n",
    "assert df['ndc_code'].nunique() > reduce_dim_df['generic_drug_name'].nunique()"
   ]
  },
  {
   "cell_type": "markdown",
   "metadata": {},
   "source": [
    "## Select First Encounter for each Patient "
   ]
  },
  {
   "cell_type": "markdown",
   "metadata": {},
   "source": [
    "**Question 4**: In order to simplify the aggregation of data for the model, we will only select the first encounter for each patient in the dataset. This is to reduce the risk of data leakage of future patient encounters and to reduce complexity of the data transformation and modeling steps. We will assume that sorting in numerical order on the encounter_id provides the time horizon for determining which encounters come before and after another."
   ]
  },
  {
   "cell_type": "code",
   "execution_count": 17,
   "metadata": {},
   "outputs": [],
   "source": [
    "from student_utils import select_first_encounter\n",
    "first_encounter_df = select_first_encounter(reduce_dim_df)"
   ]
  },
  {
   "cell_type": "code",
   "execution_count": 18,
   "metadata": {},
   "outputs": [
    {
     "name": "stdout",
     "output_type": "stream",
     "text": [
      "Number of unique patients:71518\n",
      "Number of unique encounters:71518\n",
      "Tests passed!!\n"
     ]
    }
   ],
   "source": [
    "# unique patients in transformed dataset\n",
    "unique_patients = first_encounter_df['patient_nbr'].nunique()\n",
    "print(\"Number of unique patients:{}\".format(unique_patients))\n",
    "\n",
    "# unique encounters in transformed dataset\n",
    "unique_encounters = first_encounter_df['encounter_id'].nunique()\n",
    "print(\"Number of unique encounters:{}\".format(unique_encounters))\n",
    "\n",
    "original_unique_patient_number = reduce_dim_df['patient_nbr'].nunique()\n",
    "# number of unique patients should be equal to the number of unique encounters and patients in the final dataset\n",
    "assert original_unique_patient_number == unique_patients\n",
    "assert original_unique_patient_number == unique_encounters\n",
    "print(\"Tests passed!!\")"
   ]
  },
  {
   "cell_type": "markdown",
   "metadata": {},
   "source": [
    "## Aggregate Dataset to Right Level for Modeling "
   ]
  },
  {
   "cell_type": "markdown",
   "metadata": {},
   "source": [
    "In order to provide a broad scope of the steps and to prevent students from getting stuck with data transformations, we have selected the aggregation columns and provided a function to build the dataset at the appropriate level. The 'aggregate_dataset\" function that you can find in the 'utils.py' file can take the preceding dataframe with the 'generic_drug_name' field and transform the data appropriately for the project. \n",
    "\n",
    "To make it simpler for students, we are creating dummy columns for each unique generic drug name and adding those are input features to the model. There are other options for data representation but this is out of scope for the time constraints of the course."
   ]
  },
  {
   "cell_type": "code",
   "execution_count": 19,
   "metadata": {},
   "outputs": [
    {
     "name": "stderr",
     "output_type": "stream",
     "text": [
      "C:\\Code\\nd320-c1-emr-data-starter\\project\\starter_code\\utils.py:9: FutureWarning: Indexing with multiple keys (implicitly converted to a tuple of keys) will be deprecated, use a list instead.\n",
      "  df = df.groupby(grouping_field_list)['encounter_id',\n",
      "C:\\Code\\nd320-c1-emr-data-starter\\project\\starter_code\\utils.py:13: FutureWarning: Using the level keyword in DataFrame and Series aggregations is deprecated and will be removed in a future version. Use groupby instead. df.sum(level=1) should use df.groupby(level=1).sum().\n",
      "  dummy_df = pd.get_dummies(df[array_field + '_array'].apply(pd.Series).stack()).sum(level=0)\n"
     ]
    }
   ],
   "source": [
    "exclusion_list = ['generic_drug_name']\n",
    "grouping_field_list = [c for c in first_encounter_df.columns if c not in exclusion_list]\n",
    "agg_drug_df, ndc_col_list = aggregate_dataset(first_encounter_df, grouping_field_list, 'generic_drug_name')"
   ]
  },
  {
   "cell_type": "code",
   "execution_count": 20,
   "metadata": {},
   "outputs": [],
   "source": [
    "assert len(agg_drug_df) == agg_drug_df['patient_nbr'].nunique() == agg_drug_df['encounter_id'].nunique()"
   ]
  },
  {
   "cell_type": "markdown",
   "metadata": {},
   "source": [
    "## Prepare Fields and Cast Dataset "
   ]
  },
  {
   "cell_type": "markdown",
   "metadata": {},
   "source": [
    "### Feature Selection"
   ]
  },
  {
   "cell_type": "markdown",
   "metadata": {},
   "source": [
    "**Question 5**: After you have aggregated the dataset to the right level, we can do feature selection (we will include the ndc_col_list, dummy column features too). In the block below, please select the categorical and numerical features that you will use for the model, so that we can create a dataset subset. \n",
    "\n",
    "For the payer_code and weight fields, please provide whether you think we should include/exclude the field in our model and give a justification/rationale for this based off of the statistics of the data. Feel free to use visualizations or summary statistics to support your choice."
   ]
  },
  {
   "cell_type": "markdown",
   "metadata": {},
   "source": [
    "Student response: Weight has a missing percentage of 96%, so we should not include it in our model. Payer_code has a missing percentage of 42%, and is also not really relevant to our use case, so we should also not include it in our model."
   ]
  },
  {
   "cell_type": "code",
   "execution_count": 21,
   "metadata": {},
   "outputs": [
    {
     "data": {
      "image/png": "[encoded data removed]",
      "text/plain": [
       "<Figure size 640x480 with 1 Axes>"
      ]
     },
     "metadata": {},
     "output_type": "display_data"
    }
   ],
   "source": [
    "# Plot weight values\n",
    "sns.countplot(agg_drug_df['weight']);"
   ]
  },
  {
   "cell_type": "code",
   "execution_count": 22,
   "metadata": {},
   "outputs": [
    {
     "data": {
      "text/plain": [
       "0.9636085570562547"
      ]
     },
     "execution_count": 22,
     "metadata": {},
     "output_type": "execute_result"
    }
   ],
   "source": [
    "# See percentage of \"?\" values\n",
    "agg_drug_df.loc[agg_drug_df['weight'] == '?'].shape[0] / agg_drug_df.shape[0]"
   ]
  },
  {
   "cell_type": "code",
   "execution_count": 23,
   "metadata": {},
   "outputs": [
    {
     "data": {
      "image/png": "[encoded data removed]",
      "text/plain": [
       "<Figure size 640x480 with 1 Axes>"
      ]
     },
     "metadata": {},
     "output_type": "display_data"
    }
   ],
   "source": [
    "# Plot payer_code values\n",
    "sns.countplot(agg_drug_df['payer_code']);"
   ]
  },
  {
   "cell_type": "code",
   "execution_count": 24,
   "metadata": {},
   "outputs": [
    {
     "data": {
      "text/plain": [
       "0.4163365333235061"
      ]
     },
     "execution_count": 24,
     "metadata": {},
     "output_type": "execute_result"
    }
   ],
   "source": [
    "# See percentage of \"?\" values\n",
    "agg_drug_df.loc[agg_drug_df['payer_code'] == '?'].shape[0] / agg_drug_df.shape[0]"
   ]
  },
  {
   "cell_type": "code",
   "execution_count": 25,
   "metadata": {},
   "outputs": [
    {
     "data": {
      "text/html": [
       "<div>\n",
       "<style scoped>\n",
       "    .dataframe tbody tr th:only-of-type {\n",
       "        vertical-align: middle;\n",
       "    }\n",
       "\n",
       "    .dataframe tbody tr th {\n",
       "        vertical-align: top;\n",
       "    }\n",
       "\n",
       "    .dataframe thead th {\n",
       "        text-align: right;\n",
       "    }\n",
       "</style>\n",
       "<table border=\"1\" class=\"dataframe\">\n",
       "  <thead>\n",
       "    <tr style=\"text-align: right;\">\n",
       "      <th></th>\n",
       "      <th>encounter_id</th>\n",
       "      <th>patient_nbr</th>\n",
       "      <th>race</th>\n",
       "      <th>gender</th>\n",
       "      <th>age</th>\n",
       "      <th>weight</th>\n",
       "      <th>admission_type_id</th>\n",
       "      <th>discharge_disposition_id</th>\n",
       "      <th>admission_source_id</th>\n",
       "      <th>time_in_hospital</th>\n",
       "      <th>payer_code</th>\n",
       "      <th>medical_specialty</th>\n",
       "      <th>primary_diagnosis_code</th>\n",
       "      <th>other_diagnosis_codes</th>\n",
       "      <th>number_outpatient</th>\n",
       "      <th>number_inpatient</th>\n",
       "      <th>number_emergency</th>\n",
       "      <th>num_lab_procedures</th>\n",
       "      <th>number_diagnoses</th>\n",
       "      <th>num_medications</th>\n",
       "      <th>num_procedures</th>\n",
       "      <th>ndc_code</th>\n",
       "      <th>max_glu_serum</th>\n",
       "      <th>A1Cresult</th>\n",
       "      <th>change</th>\n",
       "      <th>readmitted</th>\n",
       "      <th>generic_drug_name_array</th>\n",
       "      <th>Acarbose</th>\n",
       "      <th>Glimepiride</th>\n",
       "      <th>Glipizide</th>\n",
       "      <th>Glipizide_And_Metformin_Hcl</th>\n",
       "      <th>Glipizide_And_Metformin_Hydrochloride</th>\n",
       "      <th>Glyburide</th>\n",
       "      <th>Glyburide_And_Metformin_Hydrochloride</th>\n",
       "      <th>Glyburide-metformin_Hydrochloride</th>\n",
       "      <th>Human_Insulin</th>\n",
       "      <th>Insulin_Human</th>\n",
       "      <th>Metformin_Hcl</th>\n",
       "      <th>Metformin_Hydrochloride</th>\n",
       "      <th>Miglitol</th>\n",
       "      <th>Nateglinide</th>\n",
       "      <th>Pioglitazone</th>\n",
       "      <th>Pioglitazone_Hydrochloride_And_Glimepiride</th>\n",
       "      <th>Repaglinide</th>\n",
       "      <th>Rosiglitazone_Maleate</th>\n",
       "      <th>Tolazamide</th>\n",
       "      <th>Tolbutamide</th>\n",
       "    </tr>\n",
       "  </thead>\n",
       "  <tbody>\n",
       "    <tr>\n",
       "      <th>0</th>\n",
       "      <td>12522</td>\n",
       "      <td>48330783</td>\n",
       "      <td>Caucasian</td>\n",
       "      <td>Female</td>\n",
       "      <td>[80-90)</td>\n",
       "      <td>?</td>\n",
       "      <td>2</td>\n",
       "      <td>1</td>\n",
       "      <td>4</td>\n",
       "      <td>13</td>\n",
       "      <td>?</td>\n",
       "      <td>?</td>\n",
       "      <td>398</td>\n",
       "      <td>427|38</td>\n",
       "      <td>0</td>\n",
       "      <td>0</td>\n",
       "      <td>0</td>\n",
       "      <td>68</td>\n",
       "      <td>8</td>\n",
       "      <td>28</td>\n",
       "      <td>2</td>\n",
       "      <td>47918-902</td>\n",
       "      <td>None</td>\n",
       "      <td>None</td>\n",
       "      <td>Ch</td>\n",
       "      <td>NO</td>\n",
       "      <td>[Insulin Human]</td>\n",
       "      <td>0</td>\n",
       "      <td>0</td>\n",
       "      <td>0</td>\n",
       "      <td>0</td>\n",
       "      <td>0</td>\n",
       "      <td>0</td>\n",
       "      <td>0</td>\n",
       "      <td>0</td>\n",
       "      <td>0</td>\n",
       "      <td>1</td>\n",
       "      <td>0</td>\n",
       "      <td>0</td>\n",
       "      <td>0</td>\n",
       "      <td>0</td>\n",
       "      <td>0</td>\n",
       "      <td>0</td>\n",
       "      <td>0</td>\n",
       "      <td>0</td>\n",
       "      <td>0</td>\n",
       "      <td>0</td>\n",
       "    </tr>\n",
       "    <tr>\n",
       "      <th>1</th>\n",
       "      <td>15738</td>\n",
       "      <td>63555939</td>\n",
       "      <td>Caucasian</td>\n",
       "      <td>Female</td>\n",
       "      <td>[90-100)</td>\n",
       "      <td>?</td>\n",
       "      <td>3</td>\n",
       "      <td>3</td>\n",
       "      <td>4</td>\n",
       "      <td>12</td>\n",
       "      <td>?</td>\n",
       "      <td>InternalMedicine</td>\n",
       "      <td>434</td>\n",
       "      <td>198|486</td>\n",
       "      <td>0</td>\n",
       "      <td>0</td>\n",
       "      <td>0</td>\n",
       "      <td>33</td>\n",
       "      <td>8</td>\n",
       "      <td>18</td>\n",
       "      <td>3</td>\n",
       "      <td>68071-1701</td>\n",
       "      <td>None</td>\n",
       "      <td>None</td>\n",
       "      <td>Ch</td>\n",
       "      <td>NO</td>\n",
       "      <td>[Human Insulin]</td>\n",
       "      <td>0</td>\n",
       "      <td>0</td>\n",
       "      <td>0</td>\n",
       "      <td>0</td>\n",
       "      <td>0</td>\n",
       "      <td>0</td>\n",
       "      <td>0</td>\n",
       "      <td>0</td>\n",
       "      <td>1</td>\n",
       "      <td>0</td>\n",
       "      <td>0</td>\n",
       "      <td>0</td>\n",
       "      <td>0</td>\n",
       "      <td>0</td>\n",
       "      <td>0</td>\n",
       "      <td>0</td>\n",
       "      <td>0</td>\n",
       "      <td>0</td>\n",
       "      <td>0</td>\n",
       "      <td>0</td>\n",
       "    </tr>\n",
       "    <tr>\n",
       "      <th>2</th>\n",
       "      <td>16680</td>\n",
       "      <td>42519267</td>\n",
       "      <td>Caucasian</td>\n",
       "      <td>Male</td>\n",
       "      <td>[40-50)</td>\n",
       "      <td>?</td>\n",
       "      <td>1</td>\n",
       "      <td>1</td>\n",
       "      <td>7</td>\n",
       "      <td>1</td>\n",
       "      <td>?</td>\n",
       "      <td>?</td>\n",
       "      <td>197</td>\n",
       "      <td>157|250</td>\n",
       "      <td>0</td>\n",
       "      <td>0</td>\n",
       "      <td>0</td>\n",
       "      <td>51</td>\n",
       "      <td>5</td>\n",
       "      <td>8</td>\n",
       "      <td>0</td>\n",
       "      <td>0049-4110</td>\n",
       "      <td>None</td>\n",
       "      <td>None</td>\n",
       "      <td>Ch</td>\n",
       "      <td>NO</td>\n",
       "      <td>[Glipizide]</td>\n",
       "      <td>0</td>\n",
       "      <td>0</td>\n",
       "      <td>1</td>\n",
       "      <td>0</td>\n",
       "      <td>0</td>\n",
       "      <td>0</td>\n",
       "      <td>0</td>\n",
       "      <td>0</td>\n",
       "      <td>0</td>\n",
       "      <td>0</td>\n",
       "      <td>0</td>\n",
       "      <td>0</td>\n",
       "      <td>0</td>\n",
       "      <td>0</td>\n",
       "      <td>0</td>\n",
       "      <td>0</td>\n",
       "      <td>0</td>\n",
       "      <td>0</td>\n",
       "      <td>0</td>\n",
       "      <td>0</td>\n",
       "    </tr>\n",
       "    <tr>\n",
       "      <th>3</th>\n",
       "      <td>28236</td>\n",
       "      <td>89869032</td>\n",
       "      <td>AfricanAmerican</td>\n",
       "      <td>Female</td>\n",
       "      <td>[40-50)</td>\n",
       "      <td>?</td>\n",
       "      <td>1</td>\n",
       "      <td>1</td>\n",
       "      <td>7</td>\n",
       "      <td>9</td>\n",
       "      <td>?</td>\n",
       "      <td>?</td>\n",
       "      <td>250.7</td>\n",
       "      <td>403|996</td>\n",
       "      <td>0</td>\n",
       "      <td>0</td>\n",
       "      <td>0</td>\n",
       "      <td>47</td>\n",
       "      <td>9</td>\n",
       "      <td>17</td>\n",
       "      <td>2</td>\n",
       "      <td>68071-1701</td>\n",
       "      <td>None</td>\n",
       "      <td>None</td>\n",
       "      <td>No</td>\n",
       "      <td>&gt;30</td>\n",
       "      <td>[Human Insulin]</td>\n",
       "      <td>0</td>\n",
       "      <td>0</td>\n",
       "      <td>0</td>\n",
       "      <td>0</td>\n",
       "      <td>0</td>\n",
       "      <td>0</td>\n",
       "      <td>0</td>\n",
       "      <td>0</td>\n",
       "      <td>1</td>\n",
       "      <td>0</td>\n",
       "      <td>0</td>\n",
       "      <td>0</td>\n",
       "      <td>0</td>\n",
       "      <td>0</td>\n",
       "      <td>0</td>\n",
       "      <td>0</td>\n",
       "      <td>0</td>\n",
       "      <td>0</td>\n",
       "      <td>0</td>\n",
       "      <td>0</td>\n",
       "    </tr>\n",
       "    <tr>\n",
       "      <th>4</th>\n",
       "      <td>35754</td>\n",
       "      <td>82637451</td>\n",
       "      <td>Caucasian</td>\n",
       "      <td>Male</td>\n",
       "      <td>[50-60)</td>\n",
       "      <td>?</td>\n",
       "      <td>2</td>\n",
       "      <td>1</td>\n",
       "      <td>2</td>\n",
       "      <td>3</td>\n",
       "      <td>?</td>\n",
       "      <td>?</td>\n",
       "      <td>414</td>\n",
       "      <td>411|250</td>\n",
       "      <td>0</td>\n",
       "      <td>0</td>\n",
       "      <td>0</td>\n",
       "      <td>31</td>\n",
       "      <td>9</td>\n",
       "      <td>16</td>\n",
       "      <td>6</td>\n",
       "      <td>47918-902</td>\n",
       "      <td>None</td>\n",
       "      <td>None</td>\n",
       "      <td>No</td>\n",
       "      <td>&gt;30</td>\n",
       "      <td>[Insulin Human]</td>\n",
       "      <td>0</td>\n",
       "      <td>0</td>\n",
       "      <td>0</td>\n",
       "      <td>0</td>\n",
       "      <td>0</td>\n",
       "      <td>0</td>\n",
       "      <td>0</td>\n",
       "      <td>0</td>\n",
       "      <td>0</td>\n",
       "      <td>1</td>\n",
       "      <td>0</td>\n",
       "      <td>0</td>\n",
       "      <td>0</td>\n",
       "      <td>0</td>\n",
       "      <td>0</td>\n",
       "      <td>0</td>\n",
       "      <td>0</td>\n",
       "      <td>0</td>\n",
       "      <td>0</td>\n",
       "      <td>0</td>\n",
       "    </tr>\n",
       "  </tbody>\n",
       "</table>\n",
       "</div>"
      ],
      "text/plain": [
       "   encounter_id  patient_nbr             race  gender       age weight  \\\n",
       "0         12522     48330783        Caucasian  Female   [80-90)      ?   \n",
       "1         15738     63555939        Caucasian  Female  [90-100)      ?   \n",
       "2         16680     42519267        Caucasian    Male   [40-50)      ?   \n",
       "3         28236     89869032  AfricanAmerican  Female   [40-50)      ?   \n",
       "4         35754     82637451        Caucasian    Male   [50-60)      ?   \n",
       "\n",
       "   admission_type_id  discharge_disposition_id  admission_source_id  \\\n",
       "0                  2                         1                    4   \n",
       "1                  3                         3                    4   \n",
       "2                  1                         1                    7   \n",
       "3                  1                         1                    7   \n",
       "4                  2                         1                    2   \n",
       "\n",
       "   time_in_hospital payer_code medical_specialty primary_diagnosis_code  \\\n",
       "0                13          ?                 ?                    398   \n",
       "1                12          ?  InternalMedicine                    434   \n",
       "2                 1          ?                 ?                    197   \n",
       "3                 9          ?                 ?                  250.7   \n",
       "4                 3          ?                 ?                    414   \n",
       "\n",
       "  other_diagnosis_codes  number_outpatient  number_inpatient  \\\n",
       "0                427|38                  0                 0   \n",
       "1               198|486                  0                 0   \n",
       "2               157|250                  0                 0   \n",
       "3               403|996                  0                 0   \n",
       "4               411|250                  0                 0   \n",
       "\n",
       "   number_emergency  num_lab_procedures  number_diagnoses  num_medications  \\\n",
       "0                 0                  68                 8               28   \n",
       "1                 0                  33                 8               18   \n",
       "2                 0                  51                 5                8   \n",
       "3                 0                  47                 9               17   \n",
       "4                 0                  31                 9               16   \n",
       "\n",
       "   num_procedures    ndc_code max_glu_serum A1Cresult change readmitted  \\\n",
       "0               2   47918-902          None      None     Ch         NO   \n",
       "1               3  68071-1701          None      None     Ch         NO   \n",
       "2               0   0049-4110          None      None     Ch         NO   \n",
       "3               2  68071-1701          None      None     No        >30   \n",
       "4               6   47918-902          None      None     No        >30   \n",
       "\n",
       "  generic_drug_name_array  Acarbose  Glimepiride  Glipizide  \\\n",
       "0         [Insulin Human]         0            0          0   \n",
       "1         [Human Insulin]         0            0          0   \n",
       "2             [Glipizide]         0            0          1   \n",
       "3         [Human Insulin]         0            0          0   \n",
       "4         [Insulin Human]         0            0          0   \n",
       "\n",
       "   Glipizide_And_Metformin_Hcl  Glipizide_And_Metformin_Hydrochloride  \\\n",
       "0                            0                                      0   \n",
       "1                            0                                      0   \n",
       "2                            0                                      0   \n",
       "3                            0                                      0   \n",
       "4                            0                                      0   \n",
       "\n",
       "   Glyburide  Glyburide_And_Metformin_Hydrochloride  \\\n",
       "0          0                                      0   \n",
       "1          0                                      0   \n",
       "2          0                                      0   \n",
       "3          0                                      0   \n",
       "4          0                                      0   \n",
       "\n",
       "   Glyburide-metformin_Hydrochloride  Human_Insulin  Insulin_Human  \\\n",
       "0                                  0              0              1   \n",
       "1                                  0              1              0   \n",
       "2                                  0              0              0   \n",
       "3                                  0              1              0   \n",
       "4                                  0              0              1   \n",
       "\n",
       "   Metformin_Hcl  Metformin_Hydrochloride  Miglitol  Nateglinide  \\\n",
       "0              0                        0         0            0   \n",
       "1              0                        0         0            0   \n",
       "2              0                        0         0            0   \n",
       "3              0                        0         0            0   \n",
       "4              0                        0         0            0   \n",
       "\n",
       "   Pioglitazone  Pioglitazone_Hydrochloride_And_Glimepiride  Repaglinide  \\\n",
       "0             0                                           0            0   \n",
       "1             0                                           0            0   \n",
       "2             0                                           0            0   \n",
       "3             0                                           0            0   \n",
       "4             0                                           0            0   \n",
       "\n",
       "   Rosiglitazone_Maleate  Tolazamide  Tolbutamide  \n",
       "0                      0           0            0  \n",
       "1                      0           0            0  \n",
       "2                      0           0            0  \n",
       "3                      0           0            0  \n",
       "4                      0           0            0  "
      ]
     },
     "execution_count": 25,
     "metadata": {},
     "output_type": "execute_result"
    }
   ],
   "source": [
    "agg_drug_df.head()"
   ]
  },
  {
   "cell_type": "code",
   "execution_count": 26,
   "metadata": {},
   "outputs": [],
   "source": [
    "'''\n",
    "Please update the list to include the features you think are appropriate for the model \n",
    "and the field that we will be using to train the model. There are three required demographic features for the model \n",
    "and I have inserted a list with them already in the categorical list. \n",
    "These will be required for later steps when analyzing data splits and model biases.\n",
    "'''\n",
    "required_demo_col_list = ['race', 'gender', 'age']\n",
    "student_categorical_col_list = [ \"medical_specialty\", \"primary_diagnosis_code\", \"other_diagnosis_codes\" ] + required_demo_col_list + ndc_col_list\n",
    "student_numerical_col_list = [ 'admission_type_id', 'discharge_disposition_id', 'admission_source_id', 'num_lab_procedures', 'number_diagnoses', 'num_medications', 'num_procedures' ]\n",
    "PREDICTOR_FIELD = 'time_in_hospital'"
   ]
  },
  {
   "cell_type": "code",
   "execution_count": 27,
   "metadata": {},
   "outputs": [],
   "source": [
    "def select_model_features(df, categorical_col_list, numerical_col_list, PREDICTOR_FIELD, grouping_key='patient_nbr'):\n",
    "    selected_col_list = [grouping_key] + [PREDICTOR_FIELD] + categorical_col_list + numerical_col_list   \n",
    "    return agg_drug_df[selected_col_list]\n"
   ]
  },
  {
   "cell_type": "code",
   "execution_count": 28,
   "metadata": {},
   "outputs": [],
   "source": [
    "selected_features_df = select_model_features(agg_drug_df, student_categorical_col_list, student_numerical_col_list,\n",
    "                                            PREDICTOR_FIELD)"
   ]
  },
  {
   "cell_type": "markdown",
   "metadata": {},
   "source": [
    "### Preprocess Dataset - Casting and Imputing  "
   ]
  },
  {
   "cell_type": "markdown",
   "metadata": {},
   "source": [
    "We will cast and impute the dataset before splitting so that we do not have to repeat these steps across the splits in the next step. For imputing, there can be deeper analysis into which features to impute and how to impute but for the sake of time, we are taking a general strategy of imputing zero for only numerical features. \n",
    "\n",
    "OPTIONAL: What are some potential issues with this approach? Can you recommend a better way and also implement it?\n",
    "\n",
    "Student Response: One potential issue with this approach is that imputing zero for numerical features may not be the best strategy because it could introduce bias into the model. A better way to impute missing values would be to use a more sophisticated imputation strategy such as mean or median imputation."
   ]
  },
  {
   "cell_type": "code",
   "execution_count": 29,
   "metadata": {},
   "outputs": [
    {
     "name": "stderr",
     "output_type": "stream",
     "text": [
      "C:\\Code\\nd320-c1-emr-data-starter\\project\\starter_code\\utils.py:29: SettingWithCopyWarning: \n",
      "A value is trying to be set on a copy of a slice from a DataFrame.\n",
      "Try using .loc[row_indexer,col_indexer] = value instead\n",
      "\n",
      "See the caveats in the documentation: https://pandas.pydata.org/pandas-docs/stable/user_guide/indexing.html#returning-a-view-versus-a-copy\n",
      "  df[predictor] = df[predictor].astype(float)\n",
      "C:\\Code\\nd320-c1-emr-data-starter\\project\\starter_code\\utils.py:31: SettingWithCopyWarning: \n",
      "A value is trying to be set on a copy of a slice from a DataFrame.\n",
      "Try using .loc[row_indexer,col_indexer] = value instead\n",
      "\n",
      "See the caveats in the documentation: https://pandas.pydata.org/pandas-docs/stable/user_guide/indexing.html#returning-a-view-versus-a-copy\n",
      "  df[c] = cast_df(df, c, d_type=str)\n",
      "C:\\Code\\nd320-c1-emr-data-starter\\project\\starter_code\\utils.py:33: SettingWithCopyWarning: \n",
      "A value is trying to be set on a copy of a slice from a DataFrame.\n",
      "Try using .loc[row_indexer,col_indexer] = value instead\n",
      "\n",
      "See the caveats in the documentation: https://pandas.pydata.org/pandas-docs/stable/user_guide/indexing.html#returning-a-view-versus-a-copy\n",
      "  df[numerical_column] = impute_df(df, numerical_column, numerical_impute_value)\n"
     ]
    }
   ],
   "source": [
    "processed_df = preprocess_df(selected_features_df, student_categorical_col_list, \n",
    "        student_numerical_col_list, PREDICTOR_FIELD, categorical_impute_value='nan', numerical_impute_value=0)"
   ]
  },
  {
   "cell_type": "markdown",
   "metadata": {},
   "source": [
    "## Split Dataset into Train, Validation, and Test Partitions"
   ]
  },
  {
   "cell_type": "markdown",
   "metadata": {},
   "source": [
    "**Question 6**: In order to prepare the data for being trained and evaluated by a deep learning model, we will split the dataset into three partitions, with the validation partition used for optimizing the model hyperparameters during training. One of the key parts is that we need to be sure that the data does not accidently leak across partitions.\n",
    "\n",
    "Please complete the function below to split the input dataset into three partitions(train, validation, test) with the following requirements.\n",
    "- Approximately 60%/20%/20%  train/validation/test split\n",
    "- Randomly sample different patients into each data partition\n",
    "- **IMPORTANT** Make sure that a patient's data is not in more than one partition, so that we can avoid possible data leakage.\n",
    "- Make sure that the total number of unique patients across the splits is equal to the total number of unique patients in the original dataset\n",
    "- Total number of rows in original dataset = sum of rows across all three dataset partitions"
   ]
  },
  {
   "cell_type": "code",
   "execution_count": 30,
   "metadata": {},
   "outputs": [],
   "source": [
    "from student_utils import patient_dataset_splitter\n",
    "d_train, d_val, d_test = patient_dataset_splitter(processed_df, 'patient_nbr')"
   ]
  },
  {
   "cell_type": "code",
   "execution_count": 31,
   "metadata": {},
   "outputs": [
    {
     "name": "stdout",
     "output_type": "stream",
     "text": [
      "Test passed for number of total rows equal!\n"
     ]
    }
   ],
   "source": [
    "assert len(d_train) + len(d_val) + len(d_test) == len(processed_df)\n",
    "print(\"Test passed for number of total rows equal!\")"
   ]
  },
  {
   "cell_type": "code",
   "execution_count": 32,
   "metadata": {},
   "outputs": [
    {
     "name": "stdout",
     "output_type": "stream",
     "text": [
      "Test passed for number of unique patients being equal!\n"
     ]
    }
   ],
   "source": [
    "assert (d_train['patient_nbr'].nunique() + d_val['patient_nbr'].nunique() + d_test['patient_nbr'].nunique()) == agg_drug_df['patient_nbr'].nunique()\n",
    "print(\"Test passed for number of unique patients being equal!\")"
   ]
  },
  {
   "cell_type": "markdown",
   "metadata": {},
   "source": [
    "## Demographic Representation Analysis of Split"
   ]
  },
  {
   "cell_type": "markdown",
   "metadata": {},
   "source": [
    "After the split, we should check to see the distribution of key features/groups and make sure that there is representative samples across the partitions. The show_group_stats_viz function in the utils.py file can be used to group and visualize different groups and dataframe partitions."
   ]
  },
  {
   "cell_type": "markdown",
   "metadata": {},
   "source": [
    "### Label Distribution Across Partitions"
   ]
  },
  {
   "cell_type": "markdown",
   "metadata": {},
   "source": [
    "Below you can see the distributution of the label across your splits. Are the histogram distribution shapes similar across partitions?\n",
    "\n",
    "Student Response: Yes, the histogram distribution shapes are similar across partitions."
   ]
  },
  {
   "cell_type": "code",
   "execution_count": 33,
   "metadata": {},
   "outputs": [
    {
     "name": "stdout",
     "output_type": "stream",
     "text": [
      "time_in_hospital\n",
      "1.0     7318\n",
      "2.0     9191\n",
      "3.0     9740\n",
      "4.0     7417\n",
      "5.0     5348\n",
      "6.0     3991\n",
      "7.0     3123\n",
      "8.0     2311\n",
      "9.0     1597\n",
      "10.0    1241\n",
      "11.0    1008\n",
      "12.0     783\n",
      "13.0     663\n",
      "14.0     540\n",
      "dtype: int64\n",
      "Axes(0.125,0.11;0.775x0.77)\n"
     ]
    },
    {
     "data": {
      "image/png": "[encoded data removed]",
      "text/plain": [
       "<Figure size 640x480 with 1 Axes>"
      ]
     },
     "metadata": {},
     "output_type": "display_data"
    }
   ],
   "source": [
    "show_group_stats_viz(processed_df, PREDICTOR_FIELD)"
   ]
  },
  {
   "cell_type": "code",
   "execution_count": 34,
   "metadata": {},
   "outputs": [
    {
     "name": "stdout",
     "output_type": "stream",
     "text": [
      "time_in_hospital\n",
      "1.0     4443\n",
      "2.0     5530\n",
      "3.0     5818\n",
      "4.0     4485\n",
      "5.0     3153\n",
      "6.0     2346\n",
      "7.0     1861\n",
      "8.0     1375\n",
      "9.0      974\n",
      "10.0     769\n",
      "11.0     626\n",
      "12.0     483\n",
      "13.0     364\n",
      "14.0     335\n",
      "dtype: int64\n",
      "Axes(0.125,0.11;0.775x0.77)\n"
     ]
    },
    {
     "data": {
      "image/png": "[encoded data removed]",
      "text/plain": [
       "<Figure size 640x480 with 1 Axes>"
      ]
     },
     "metadata": {},
     "output_type": "display_data"
    }
   ],
   "source": [
    "show_group_stats_viz(d_train, PREDICTOR_FIELD)"
   ]
  },
  {
   "cell_type": "code",
   "execution_count": 35,
   "metadata": {},
   "outputs": [
    {
     "name": "stdout",
     "output_type": "stream",
     "text": [
      "time_in_hospital\n",
      "1.0     1426\n",
      "2.0     1840\n",
      "3.0     1937\n",
      "4.0     1452\n",
      "5.0     1065\n",
      "6.0      832\n",
      "7.0      639\n",
      "8.0      454\n",
      "9.0      349\n",
      "10.0     245\n",
      "11.0     210\n",
      "12.0     142\n",
      "13.0     154\n",
      "14.0     110\n",
      "dtype: int64\n",
      "Axes(0.125,0.11;0.775x0.77)\n"
     ]
    },
    {
     "data": {
      "image/png": "[encoded data removed]",
      "text/plain": [
       "<Figure size 640x480 with 1 Axes>"
      ]
     },
     "metadata": {},
     "output_type": "display_data"
    }
   ],
   "source": [
    "show_group_stats_viz(d_test, PREDICTOR_FIELD)"
   ]
  },
  {
   "cell_type": "markdown",
   "metadata": {},
   "source": [
    "## Demographic Group Analysis"
   ]
  },
  {
   "cell_type": "markdown",
   "metadata": {},
   "source": [
    "We should check that our partitions/splits of the dataset are similar in terms of their demographic profiles. Below you can see how we might visualize and analyze the full dataset vs. the partitions."
   ]
  },
  {
   "cell_type": "code",
   "execution_count": 36,
   "metadata": {},
   "outputs": [
    {
     "name": "stdout",
     "output_type": "stream",
     "text": [
      "gender\n",
      "Female             28572\n",
      "Male               25697\n",
      "Unknown/Invalid        2\n",
      "dtype: int64\n",
      "Axes(0.125,0.11;0.775x0.77)\n"
     ]
    },
    {
     "data": {
      "image/png": "[encoded data removed]",
      "text/plain": [
       "<Figure size 640x480 with 1 Axes>"
      ]
     },
     "metadata": {},
     "output_type": "display_data"
    }
   ],
   "source": [
    "# Full dataset before splitting\n",
    "patient_demo_features = ['race', 'gender', 'age', 'patient_nbr']\n",
    "patient_group_analysis_df = processed_df[patient_demo_features].groupby('patient_nbr').head(1).reset_index(drop=True)\n",
    "show_group_stats_viz(patient_group_analysis_df, 'gender')"
   ]
  },
  {
   "cell_type": "code",
   "execution_count": 37,
   "metadata": {},
   "outputs": [
    {
     "name": "stdout",
     "output_type": "stream",
     "text": [
      "gender\n",
      "Female             17267\n",
      "Male               15294\n",
      "Unknown/Invalid        1\n",
      "dtype: int64\n",
      "Axes(0.125,0.11;0.775x0.77)\n"
     ]
    },
    {
     "data": {
      "image/png": "[encoded data removed]",
      "text/plain": [
       "<Figure size 640x480 with 1 Axes>"
      ]
     },
     "metadata": {},
     "output_type": "display_data"
    }
   ],
   "source": [
    "# Training partition\n",
    "show_group_stats_viz(d_train, 'gender')"
   ]
  },
  {
   "cell_type": "code",
   "execution_count": 38,
   "metadata": {},
   "outputs": [
    {
     "name": "stdout",
     "output_type": "stream",
     "text": [
      "gender\n",
      "Female    5689\n",
      "Male      5166\n",
      "dtype: int64\n",
      "Axes(0.125,0.11;0.775x0.77)\n"
     ]
    },
    {
     "data": {
      "image/png": "[encoded data removed]",
      "text/plain": [
       "<Figure size 640x480 with 1 Axes>"
      ]
     },
     "metadata": {},
     "output_type": "display_data"
    }
   ],
   "source": [
    "# Test partition\n",
    "show_group_stats_viz(d_test, 'gender')"
   ]
  },
  {
   "cell_type": "markdown",
   "metadata": {},
   "source": [
    "## Convert Dataset Splits to TF Dataset"
   ]
  },
  {
   "cell_type": "markdown",
   "metadata": {},
   "source": [
    "We have provided you the function to convert the Pandas dataframe to TF tensors using the TF Dataset API. \n",
    "Please note that this is not a scalable method and for larger datasets, the 'make_csv_dataset' method is recommended -https://www.tensorflow.org/api_docs/python/tf/data/experimental/make_csv_dataset."
   ]
  },
  {
   "cell_type": "code",
   "execution_count": 39,
   "metadata": {},
   "outputs": [],
   "source": [
    "# Convert dataset from Pandas dataframes to TF dataset \n",
    "batch_size = 128\n",
    "diabetes_train_ds = df_to_dataset(d_train, PREDICTOR_FIELD, batch_size=batch_size)\n",
    "diabetes_val_ds = df_to_dataset(d_val, PREDICTOR_FIELD, batch_size=batch_size)\n",
    "diabetes_test_ds = df_to_dataset(d_test, PREDICTOR_FIELD, batch_size=batch_size)"
   ]
  },
  {
   "cell_type": "code",
   "execution_count": 40,
   "metadata": {},
   "outputs": [],
   "source": [
    "# We use this sample of the dataset to show transformations later\n",
    "diabetes_batch = next(iter(diabetes_train_ds))[0]\n",
    "def demo(feature_column, example_batch):\n",
    "    feature_layer = layers.DenseFeatures(feature_column)\n",
    "    print(feature_layer(example_batch))"
   ]
  },
  {
   "cell_type": "markdown",
   "metadata": {},
   "source": [
    "# 4. Create Categorical Features with TF Feature Columns"
   ]
  },
  {
   "cell_type": "markdown",
   "metadata": {},
   "source": [
    "## Build Vocabulary for Categorical Features"
   ]
  },
  {
   "cell_type": "markdown",
   "metadata": {},
   "source": [
    "Before we can create the TF categorical features, we must first create the vocab files with the unique values for a given field that are from the **training** dataset. Below we have provided a function that you can use that only requires providing the pandas train dataset partition and the list of the categorical columns in a list format. The output variable 'vocab_file_list' will be a list of the file paths that can be used in the next step for creating the categorical features."
   ]
  },
  {
   "cell_type": "code",
   "execution_count": 41,
   "metadata": {},
   "outputs": [],
   "source": [
    "vocab_file_list = build_vocab_files(d_train, student_categorical_col_list, base_path=starter_code_dir)"
   ]
  },
  {
   "cell_type": "markdown",
   "metadata": {},
   "source": [
    "## Create Categorical Features with Tensorflow Feature Column API"
   ]
  },
  {
   "cell_type": "markdown",
   "metadata": {},
   "source": [
    "**Question 7**: Using the vocab file list from above that was derived from the features you selected earlier, please create categorical features with the Tensorflow Feature Column API, https://www.tensorflow.org/api_docs/python/tf/feature_column. Below is a function to help guide you."
   ]
  },
  {
   "cell_type": "code",
   "execution_count": 42,
   "metadata": {},
   "outputs": [
    {
     "name": "stdout",
     "output_type": "stream",
     "text": [
      "INFO:tensorflow:vocabulary_size = 71 in medical_specialty is inferred from the number of elements in the vocabulary_file C:\\Code\\nd320-c1-emr-data-starter\\project\\starter_code\\diabetes_vocab\\medical_specialty_vocab.txt.\n",
      "INFO:tensorflow:vocabulary_size = 611 in primary_diagnosis_code is inferred from the number of elements in the vocabulary_file C:\\Code\\nd320-c1-emr-data-starter\\project\\starter_code\\diabetes_vocab\\primary_diagnosis_code_vocab.txt.\n",
      "INFO:tensorflow:vocabulary_size = 611 in primary_diagnosis_code is inferred from the number of elements in the vocabulary_file C:\\Code\\nd320-c1-emr-data-starter\\project\\starter_code\\diabetes_vocab\\primary_diagnosis_code_vocab.txt.\n",
      "INFO:tensorflow:vocabulary_size = 9564 in other_diagnosis_codes is inferred from the number of elements in the vocabulary_file C:\\Code\\nd320-c1-emr-data-starter\\project\\starter_code\\diabetes_vocab\\other_diagnosis_codes_vocab.txt.\n",
      "INFO:tensorflow:vocabulary_size = 7 in race is inferred from the number of elements in the vocabulary_file C:\\Code\\nd320-c1-emr-data-starter\\project\\starter_code\\diabetes_vocab\\race_vocab.txt.\n",
      "INFO:tensorflow:vocabulary_size = 4 in gender is inferred from the number of elements in the vocabulary_file C:\\Code\\nd320-c1-emr-data-starter\\project\\starter_code\\diabetes_vocab\\gender_vocab.txt.\n",
      "INFO:tensorflow:vocabulary_size = 11 in age is inferred from the number of elements in the vocabulary_file C:\\Code\\nd320-c1-emr-data-starter\\project\\starter_code\\diabetes_vocab\\age_vocab.txt.\n",
      "INFO:tensorflow:vocabulary_size = 3 in Acarbose is inferred from the number of elements in the vocabulary_file C:\\Code\\nd320-c1-emr-data-starter\\project\\starter_code\\diabetes_vocab\\Acarbose_vocab.txt.\n",
      "INFO:tensorflow:vocabulary_size = 3 in Glimepiride is inferred from the number of elements in the vocabulary_file C:\\Code\\nd320-c1-emr-data-starter\\project\\starter_code\\diabetes_vocab\\Glimepiride_vocab.txt.\n",
      "INFO:tensorflow:vocabulary_size = 3 in Glipizide is inferred from the number of elements in the vocabulary_file C:\\Code\\nd320-c1-emr-data-starter\\project\\starter_code\\diabetes_vocab\\Glipizide_vocab.txt.\n",
      "INFO:tensorflow:vocabulary_size = 3 in Glipizide_And_Metformin_Hcl is inferred from the number of elements in the vocabulary_file C:\\Code\\nd320-c1-emr-data-starter\\project\\starter_code\\diabetes_vocab\\Glipizide_And_Metformin_Hcl_vocab.txt.\n",
      "INFO:tensorflow:vocabulary_size = 3 in Glipizide_And_Metformin_Hydrochloride is inferred from the number of elements in the vocabulary_file C:\\Code\\nd320-c1-emr-data-starter\\project\\starter_code\\diabetes_vocab\\Glipizide_And_Metformin_Hydrochloride_vocab.txt.\n",
      "INFO:tensorflow:vocabulary_size = 3 in Glyburide is inferred from the number of elements in the vocabulary_file C:\\Code\\nd320-c1-emr-data-starter\\project\\starter_code\\diabetes_vocab\\Glyburide_vocab.txt.\n",
      "INFO:tensorflow:vocabulary_size = 3 in Glyburide_And_Metformin_Hydrochloride is inferred from the number of elements in the vocabulary_file C:\\Code\\nd320-c1-emr-data-starter\\project\\starter_code\\diabetes_vocab\\Glyburide_And_Metformin_Hydrochloride_vocab.txt.\n",
      "INFO:tensorflow:vocabulary_size = 3 in Glyburide-metformin_Hydrochloride is inferred from the number of elements in the vocabulary_file C:\\Code\\nd320-c1-emr-data-starter\\project\\starter_code\\diabetes_vocab\\Glyburide-metformin_Hydrochloride_vocab.txt.\n",
      "INFO:tensorflow:vocabulary_size = 3 in Human_Insulin is inferred from the number of elements in the vocabulary_file C:\\Code\\nd320-c1-emr-data-starter\\project\\starter_code\\diabetes_vocab\\Human_Insulin_vocab.txt.\n",
      "INFO:tensorflow:vocabulary_size = 3 in Insulin_Human is inferred from the number of elements in the vocabulary_file C:\\Code\\nd320-c1-emr-data-starter\\project\\starter_code\\diabetes_vocab\\Insulin_Human_vocab.txt.\n",
      "INFO:tensorflow:vocabulary_size = 3 in Metformin_Hcl is inferred from the number of elements in the vocabulary_file C:\\Code\\nd320-c1-emr-data-starter\\project\\starter_code\\diabetes_vocab\\Metformin_Hcl_vocab.txt.\n",
      "INFO:tensorflow:vocabulary_size = 3 in Metformin_Hydrochloride is inferred from the number of elements in the vocabulary_file C:\\Code\\nd320-c1-emr-data-starter\\project\\starter_code\\diabetes_vocab\\Metformin_Hydrochloride_vocab.txt.\n",
      "INFO:tensorflow:vocabulary_size = 3 in Miglitol is inferred from the number of elements in the vocabulary_file C:\\Code\\nd320-c1-emr-data-starter\\project\\starter_code\\diabetes_vocab\\Miglitol_vocab.txt.\n",
      "INFO:tensorflow:vocabulary_size = 3 in Nateglinide is inferred from the number of elements in the vocabulary_file C:\\Code\\nd320-c1-emr-data-starter\\project\\starter_code\\diabetes_vocab\\Nateglinide_vocab.txt.\n",
      "INFO:tensorflow:vocabulary_size = 3 in Pioglitazone is inferred from the number of elements in the vocabulary_file C:\\Code\\nd320-c1-emr-data-starter\\project\\starter_code\\diabetes_vocab\\Pioglitazone_vocab.txt.\n",
      "INFO:tensorflow:vocabulary_size = 3 in Pioglitazone_Hydrochloride_And_Glimepiride is inferred from the number of elements in the vocabulary_file C:\\Code\\nd320-c1-emr-data-starter\\project\\starter_code\\diabetes_vocab\\Pioglitazone_Hydrochloride_And_Glimepiride_vocab.txt.\n",
      "INFO:tensorflow:vocabulary_size = 3 in Repaglinide is inferred from the number of elements in the vocabulary_file C:\\Code\\nd320-c1-emr-data-starter\\project\\starter_code\\diabetes_vocab\\Repaglinide_vocab.txt.\n",
      "INFO:tensorflow:vocabulary_size = 3 in Rosiglitazone_Maleate is inferred from the number of elements in the vocabulary_file C:\\Code\\nd320-c1-emr-data-starter\\project\\starter_code\\diabetes_vocab\\Rosiglitazone_Maleate_vocab.txt.\n",
      "INFO:tensorflow:vocabulary_size = 3 in Tolazamide is inferred from the number of elements in the vocabulary_file C:\\Code\\nd320-c1-emr-data-starter\\project\\starter_code\\diabetes_vocab\\Tolazamide_vocab.txt.\n",
      "INFO:tensorflow:vocabulary_size = 3 in Tolbutamide is inferred from the number of elements in the vocabulary_file C:\\Code\\nd320-c1-emr-data-starter\\project\\starter_code\\diabetes_vocab\\Tolbutamide_vocab.txt.\n"
     ]
    }
   ],
   "source": [
    "from student_utils import create_tf_categorical_feature_cols\n",
    "tf_cat_col_list = create_tf_categorical_feature_cols(student_categorical_col_list, vocab_dir=os.path.join(starter_code_dir, \"diabetes_vocab\"))"
   ]
  },
  {
   "cell_type": "code",
   "execution_count": 43,
   "metadata": {},
   "outputs": [
    {
     "name": "stdout",
     "output_type": "stream",
     "text": [
      "Example categorical field:\n",
      "IndicatorColumn(categorical_column=VocabularyFileCategoricalColumn(key='medical_specialty', vocabulary_file='C:\\\\Code\\\\nd320-c1-emr-data-starter\\\\project\\\\starter_code\\\\diabetes_vocab\\\\medical_specialty_vocab.txt', vocabulary_size=71, num_oov_buckets=0, dtype=tf.string, default_value=-1, file_format=None))\n",
      "tf.Tensor(\n",
      "[[0. 0. 0. ... 0. 0. 0.]\n",
      " [0. 1. 0. ... 0. 0. 0.]\n",
      " [0. 0. 0. ... 0. 0. 0.]\n",
      " ...\n",
      " [0. 1. 0. ... 0. 0. 0.]\n",
      " [0. 0. 1. ... 0. 0. 0.]\n",
      " [0. 0. 0. ... 0. 0. 0.]], shape=(128, 71), dtype=float32)\n"
     ]
    }
   ],
   "source": [
    "test_cat_var1 = tf_cat_col_list[0]\n",
    "print(\"Example categorical field:\\n{}\".format(test_cat_var1))\n",
    "demo(test_cat_var1, diabetes_batch)"
   ]
  },
  {
   "cell_type": "markdown",
   "metadata": {},
   "source": [
    "# 5. Create Numerical Features with TF Feature Columns"
   ]
  },
  {
   "cell_type": "markdown",
   "metadata": {},
   "source": [
    "**Question 8**: Using the TF Feature Column API(https://www.tensorflow.org/api_docs/python/tf/feature_column/), please create normalized Tensorflow numeric features for the model. Try to use the z-score normalizer function below to help as well as the 'calculate_stats_from_train_data' function."
   ]
  },
  {
   "cell_type": "code",
   "execution_count": 44,
   "metadata": {},
   "outputs": [],
   "source": [
    "from student_utils import create_tf_numeric_feature"
   ]
  },
  {
   "cell_type": "markdown",
   "metadata": {},
   "source": [
    "For simplicity the create_tf_numerical_feature_cols function below uses the same normalizer function across all features(z-score normalization) but if you have time feel free to analyze and adapt the normalizer based off the statistical distributions. You may find this as a good resource in determining which transformation fits best for the data https://developers.google.com/machine-learning/data-prep/transform/normalization.\n"
   ]
  },
  {
   "cell_type": "code",
   "execution_count": 45,
   "metadata": {},
   "outputs": [],
   "source": [
    "def calculate_stats_from_train_data(df, col):\n",
    "    mean = df[col].describe()['mean']\n",
    "    std = df[col].describe()['std']\n",
    "    return mean, std\n",
    "\n",
    "def create_tf_numerical_feature_cols(numerical_col_list, train_df):\n",
    "    tf_numeric_col_list = []\n",
    "    for c in numerical_col_list:\n",
    "        mean, std = calculate_stats_from_train_data(train_df, c)\n",
    "        tf_numeric_feature = create_tf_numeric_feature(c, mean, std)\n",
    "        tf_numeric_col_list.append(tf_numeric_feature)\n",
    "    return tf_numeric_col_list"
   ]
  },
  {
   "cell_type": "code",
   "execution_count": 46,
   "metadata": {},
   "outputs": [],
   "source": [
    "tf_cont_col_list = create_tf_numerical_feature_cols(student_numerical_col_list, d_train)\n"
   ]
  },
  {
   "cell_type": "code",
   "execution_count": 47,
   "metadata": {},
   "outputs": [
    {
     "name": "stdout",
     "output_type": "stream",
     "text": [
      "Example continuous field:\n",
      "NumericColumn(key='admission_type_id', shape=(1,), default_value=(0,), dtype=tf.float32, normalizer_fn=<function create_tf_numeric_feature.<locals>.<lambda> at 0x000001C49223B880>)\n",
      "\n",
      "tf.Tensor(\n",
      "[[-1.]\n",
      " [ 1.]\n",
      " [-1.]\n",
      " [-1.]\n",
      " [-1.]\n",
      " [-1.]\n",
      " [-1.]\n",
      " [-1.]\n",
      " [-1.]\n",
      " [-1.]\n",
      " [ 3.]\n",
      " [ 1.]\n",
      " [-1.]\n",
      " [-1.]\n",
      " [ 1.]\n",
      " [-1.]\n",
      " [-1.]\n",
      " [ 1.]\n",
      " [ 1.]\n",
      " [-1.]\n",
      " [-1.]\n",
      " [-1.]\n",
      " [-1.]\n",
      " [-1.]\n",
      " [ 0.]\n",
      " [-1.]\n",
      " [-1.]\n",
      " [-1.]\n",
      " [-1.]\n",
      " [ 1.]\n",
      " [ 0.]\n",
      " [-1.]\n",
      " [ 3.]\n",
      " [-1.]\n",
      " [-1.]\n",
      " [ 1.]\n",
      " [ 1.]\n",
      " [-1.]\n",
      " [ 0.]\n",
      " [ 0.]\n",
      " [ 1.]\n",
      " [ 1.]\n",
      " [ 4.]\n",
      " [ 1.]\n",
      " [-1.]\n",
      " [ 0.]\n",
      " [-1.]\n",
      " [-1.]\n",
      " [ 0.]\n",
      " [-1.]\n",
      " [-1.]\n",
      " [ 3.]\n",
      " [-1.]\n",
      " [ 0.]\n",
      " [-1.]\n",
      " [-1.]\n",
      " [-1.]\n",
      " [ 0.]\n",
      " [-1.]\n",
      " [ 4.]\n",
      " [-1.]\n",
      " [ 4.]\n",
      " [-1.]\n",
      " [ 1.]\n",
      " [-1.]\n",
      " [-1.]\n",
      " [ 0.]\n",
      " [-1.]\n",
      " [ 0.]\n",
      " [ 1.]\n",
      " [ 3.]\n",
      " [-1.]\n",
      " [-1.]\n",
      " [ 0.]\n",
      " [-1.]\n",
      " [-1.]\n",
      " [ 0.]\n",
      " [ 1.]\n",
      " [ 0.]\n",
      " [ 0.]\n",
      " [-1.]\n",
      " [-1.]\n",
      " [-1.]\n",
      " [ 0.]\n",
      " [-1.]\n",
      " [-1.]\n",
      " [-1.]\n",
      " [ 0.]\n",
      " [-1.]\n",
      " [-1.]\n",
      " [ 0.]\n",
      " [-1.]\n",
      " [-1.]\n",
      " [ 1.]\n",
      " [ 4.]\n",
      " [ 1.]\n",
      " [-1.]\n",
      " [ 0.]\n",
      " [ 1.]\n",
      " [ 1.]\n",
      " [-1.]\n",
      " [-1.]\n",
      " [ 1.]\n",
      " [ 4.]\n",
      " [ 4.]\n",
      " [ 1.]\n",
      " [-1.]\n",
      " [-1.]\n",
      " [-1.]\n",
      " [-1.]\n",
      " [ 4.]\n",
      " [ 1.]\n",
      " [-1.]\n",
      " [ 1.]\n",
      " [ 0.]\n",
      " [ 3.]\n",
      " [-1.]\n",
      " [ 1.]\n",
      " [ 1.]\n",
      " [-1.]\n",
      " [ 3.]\n",
      " [-1.]\n",
      " [ 1.]\n",
      " [-1.]\n",
      " [ 1.]\n",
      " [-1.]\n",
      " [ 1.]\n",
      " [-1.]], shape=(128, 1), dtype=float32)\n"
     ]
    }
   ],
   "source": [
    "test_cont_var1 = tf_cont_col_list[0]\n",
    "print(\"Example continuous field:\\n{}\\n\".format(test_cont_var1))\n",
    "demo(test_cont_var1, diabetes_batch)"
   ]
  },
  {
   "cell_type": "markdown",
   "metadata": {},
   "source": [
    "# 6. Build Deep Learning Regression Model with Sequential API and TF Probability Layers"
   ]
  },
  {
   "cell_type": "markdown",
   "metadata": {},
   "source": [
    "## Use DenseFeatures to combine features for model"
   ]
  },
  {
   "cell_type": "markdown",
   "metadata": {},
   "source": [
    "Now that we have prepared categorical and numerical features using Tensorflow's Feature Column API, we can combine them into a dense vector representation for the model. Below we will create this new input layer, which we will call 'claim_feature_layer'."
   ]
  },
  {
   "cell_type": "code",
   "execution_count": 48,
   "metadata": {},
   "outputs": [],
   "source": [
    "claim_feature_columns = tf_cat_col_list + tf_cont_col_list\n",
    "claim_feature_layer = tf.keras.layers.DenseFeatures(claim_feature_columns)"
   ]
  },
  {
   "cell_type": "markdown",
   "metadata": {},
   "source": [
    "## Build Sequential API Model from DenseFeatures and TF Probability Layers"
   ]
  },
  {
   "cell_type": "markdown",
   "metadata": {},
   "source": [
    "Below we have provided some boilerplate code for building a model that connects the Sequential API, DenseFeatures, and Tensorflow Probability layers into a deep learning model. There are many opportunities to further optimize and explore different architectures through benchmarking and testing approaches in various research papers, loss and evaluation metrics, learning curves, hyperparameter tuning, TF probability layers, etc. Feel free to modify and explore as you wish."
   ]
  },
  {
   "cell_type": "markdown",
   "metadata": {},
   "source": [
    "**OPTIONAL**: Come up with a more optimal neural network architecture and hyperparameters. Share the process in discovering the architecture and hyperparameters."
   ]
  },
  {
   "cell_type": "code",
   "execution_count": 49,
   "metadata": {},
   "outputs": [],
   "source": [
    "def build_sequential_model(feature_layer):\n",
    "    model = tf.keras.Sequential([\n",
    "        feature_layer,\n",
    "        # BatchNormalization is used to normalize the activations of the previous layer at each batch\n",
    "        # Also note that the tensorflow documentation has many tutorials and example notebooks that show how to use\n",
    "        # layers like this, like: https://www.tensorflow.org/tutorials/customization/custom_layers\n",
    "        # Ref: https://www.tensorflow.org/api_docs/python/tf/keras/layers/BatchNormalization\n",
    "        tf.keras.layers.BatchNormalization(),\n",
    "\n",
    "        # L2 regularization is used to prevent overfitting - I like to add this in dense layers generally\n",
    "        # Ref: https://www.tensorflow.org/api_docs/python/tf/keras/layers/Dense\n",
    "        tf.keras.layers.Dense(150, activation='relu', kernel_regularizer=tf.keras.regularizers.l2(0.01)),\n",
    "\n",
    "        # Dropout is additionally used to prevent overfitting.\n",
    "        # Effectively, this layer will randomly set a fraction rate of input units to 0 at each update during training time, which helps prevent overfitting.\n",
    "        # Ref: https://www.tensorflow.org/api_docs/python/tf/keras/layers/Dropout\n",
    "        # Ref: https://d2l.ai/chapter_multilayer-perceptrons/dropout.html\n",
    "        tf.keras.layers.Dropout(0.3),\n",
    "        tf.keras.layers.BatchNormalization(),\n",
    "        tf.keras.layers.Dense(75, activation='relu', kernel_regularizer=tf.keras.regularizers.l2(0.01)),\n",
    "        tf.keras.layers.Dropout(0.2),\n",
    "        tfp.layers.DenseVariational(1+1, posterior_mean_field, prior_trainable),\n",
    "        tfp.layers.DistributionLambda(\n",
    "            distribution_normal\n",
    "        ),\n",
    "    ])\n",
    "    return model\n",
    "\n",
    "def build_diabetes_model(train_ds, val_ds, feature_layer, epochs=5, loss_metric='mse'):\n",
    "    model = build_sequential_model(feature_layer)\n",
    "    optimizer = tf.keras.optimizers.Adam(learning_rate=0.001, clipnorm=1.0) # Reduced learning rate, add gradient clipping\n",
    "    model.compile(optimizer=optimizer, loss=loss_metric, metrics=[loss_metric])\n",
    "    \n",
    "    callbacks = [\n",
    "        # Stop if NaN occurs during training\n",
    "        # Ref: https://www.tensorflow.org/api_docs/python/tf/keras/callbacks/TerminateOnNaN\n",
    "        tf.keras.callbacks.TerminateOnNaN(),\n",
    "\n",
    "        # Update the EarlyStopping layer to have a patience of 5, and set restore_best_weights to True\n",
    "        # I generally like to have a higher patience value as it allows the model to train for longer before stopping.\n",
    "        # Ref: https://www.tensorflow.org/api_docs/python/tf/keras/callbacks/EarlyStopping\n",
    "        tf.keras.callbacks.EarlyStopping(monitor=loss_metric, patience=5),\n",
    "\n",
    "        # ReduceLROnPlateau is used to reduce the learning rate when a metric has stopped improving.\n",
    "        # Ref: https://www.tensorflow.org/api_docs/python/tf/keras/callbacks/ReduceLROnPlateau\n",
    "        tf.keras.callbacks.ReduceLROnPlateau(monitor=loss_metric, factor=0.5, patience=3),\n",
    "    ]\n",
    "    \n",
    "    history = model.fit(train_ds, \n",
    "                       validation_data=val_ds,\n",
    "                       callbacks=callbacks,\n",
    "                       epochs=epochs)\n",
    "    return model, history"
   ]
  },
  {
   "cell_type": "code",
   "execution_count": 50,
   "metadata": {},
   "outputs": [
    {
     "name": "stdout",
     "output_type": "stream",
     "text": [
      "Epoch 1/100\n",
      "WARNING:tensorflow:Layers in a Sequential model should only have a single input tensor. Received: inputs={'patient_nbr': <tf.Tensor 'IteratorGetNext:31' shape=(None,) dtype=int64>, 'medical_specialty': <tf.Tensor 'IteratorGetNext:25' shape=(None,) dtype=string>, 'primary_diagnosis_code': <tf.Tensor 'IteratorGetNext:32' shape=(None,) dtype=string>, 'other_diagnosis_codes': <tf.Tensor 'IteratorGetNext:30' shape=(None,) dtype=string>, 'race': <tf.Tensor 'IteratorGetNext:33' shape=(None,) dtype=string>, 'gender': <tf.Tensor 'IteratorGetNext:24' shape=(None,) dtype=string>, 'age': <tf.Tensor 'IteratorGetNext:22' shape=(None,) dtype=string>, 'Acarbose': <tf.Tensor 'IteratorGetNext:0' shape=(None,) dtype=string>, 'Glimepiride': <tf.Tensor 'IteratorGetNext:1' shape=(None,) dtype=string>, 'Glipizide': <tf.Tensor 'IteratorGetNext:2' shape=(None,) dtype=string>, 'Glipizide_And_Metformin_Hcl': <tf.Tensor 'IteratorGetNext:3' shape=(None,) dtype=string>, 'Glipizide_And_Metformin_Hydrochloride': <tf.Tensor 'IteratorGetNext:4' shape=(None,) dtype=string>, 'Glyburide': <tf.Tensor 'IteratorGetNext:5' shape=(None,) dtype=string>, 'Glyburide_And_Metformin_Hydrochloride': <tf.Tensor 'IteratorGetNext:7' shape=(None,) dtype=string>, 'Glyburide-metformin_Hydrochloride': <tf.Tensor 'IteratorGetNext:6' shape=(None,) dtype=string>, 'Human_Insulin': <tf.Tensor 'IteratorGetNext:8' shape=(None,) dtype=string>, 'Insulin_Human': <tf.Tensor 'IteratorGetNext:9' shape=(None,) dtype=string>, 'Metformin_Hcl': <tf.Tensor 'IteratorGetNext:10' shape=(None,) dtype=string>, 'Metformin_Hydrochloride': <tf.Tensor 'IteratorGetNext:11' shape=(None,) dtype=string>, 'Miglitol': <tf.Tensor 'IteratorGetNext:12' shape=(None,) dtype=string>, 'Nateglinide': <tf.Tensor 'IteratorGetNext:13' shape=(None,) dtype=string>, 'Pioglitazone': <tf.Tensor 'IteratorGetNext:14' shape=(None,) dtype=string>, 'Pioglitazone_Hydrochloride_And_Glimepiride': <tf.Tensor 'IteratorGetNext:15' shape=(None,) dtype=string>, 'Repaglinide': <tf.Tensor 'IteratorGetNext:16' shape=(None,) dtype=string>, 'Rosiglitazone_Maleate': <tf.Tensor 'IteratorGetNext:17' shape=(None,) dtype=string>, 'Tolazamide': <tf.Tensor 'IteratorGetNext:18' shape=(None,) dtype=string>, 'Tolbutamide': <tf.Tensor 'IteratorGetNext:19' shape=(None,) dtype=string>, 'admission_type_id': <tf.Tensor 'IteratorGetNext:21' shape=(None,) dtype=int64>, 'discharge_disposition_id': <tf.Tensor 'IteratorGetNext:23' shape=(None,) dtype=int64>, 'admission_source_id': <tf.Tensor 'IteratorGetNext:20' shape=(None,) dtype=int64>, 'num_lab_procedures': <tf.Tensor 'IteratorGetNext:26' shape=(None,) dtype=int64>, 'number_diagnoses': <tf.Tensor 'IteratorGetNext:29' shape=(None,) dtype=int64>, 'num_medications': <tf.Tensor 'IteratorGetNext:27' shape=(None,) dtype=int64>, 'num_procedures': <tf.Tensor 'IteratorGetNext:28' shape=(None,) dtype=int64>}. Consider rewriting this model with the Functional API.\n",
      "WARNING:tensorflow:Layers in a Sequential model should only have a single input tensor. Received: inputs={'patient_nbr': <tf.Tensor 'IteratorGetNext:31' shape=(None,) dtype=int64>, 'medical_specialty': <tf.Tensor 'IteratorGetNext:25' shape=(None,) dtype=string>, 'primary_diagnosis_code': <tf.Tensor 'IteratorGetNext:32' shape=(None,) dtype=string>, 'other_diagnosis_codes': <tf.Tensor 'IteratorGetNext:30' shape=(None,) dtype=string>, 'race': <tf.Tensor 'IteratorGetNext:33' shape=(None,) dtype=string>, 'gender': <tf.Tensor 'IteratorGetNext:24' shape=(None,) dtype=string>, 'age': <tf.Tensor 'IteratorGetNext:22' shape=(None,) dtype=string>, 'Acarbose': <tf.Tensor 'IteratorGetNext:0' shape=(None,) dtype=string>, 'Glimepiride': <tf.Tensor 'IteratorGetNext:1' shape=(None,) dtype=string>, 'Glipizide': <tf.Tensor 'IteratorGetNext:2' shape=(None,) dtype=string>, 'Glipizide_And_Metformin_Hcl': <tf.Tensor 'IteratorGetNext:3' shape=(None,) dtype=string>, 'Glipizide_And_Metformin_Hydrochloride': <tf.Tensor 'IteratorGetNext:4' shape=(None,) dtype=string>, 'Glyburide': <tf.Tensor 'IteratorGetNext:5' shape=(None,) dtype=string>, 'Glyburide_And_Metformin_Hydrochloride': <tf.Tensor 'IteratorGetNext:7' shape=(None,) dtype=string>, 'Glyburide-metformin_Hydrochloride': <tf.Tensor 'IteratorGetNext:6' shape=(None,) dtype=string>, 'Human_Insulin': <tf.Tensor 'IteratorGetNext:8' shape=(None,) dtype=string>, 'Insulin_Human': <tf.Tensor 'IteratorGetNext:9' shape=(None,) dtype=string>, 'Metformin_Hcl': <tf.Tensor 'IteratorGetNext:10' shape=(None,) dtype=string>, 'Metformin_Hydrochloride': <tf.Tensor 'IteratorGetNext:11' shape=(None,) dtype=string>, 'Miglitol': <tf.Tensor 'IteratorGetNext:12' shape=(None,) dtype=string>, 'Nateglinide': <tf.Tensor 'IteratorGetNext:13' shape=(None,) dtype=string>, 'Pioglitazone': <tf.Tensor 'IteratorGetNext:14' shape=(None,) dtype=string>, 'Pioglitazone_Hydrochloride_And_Glimepiride': <tf.Tensor 'IteratorGetNext:15' shape=(None,) dtype=string>, 'Repaglinide': <tf.Tensor 'IteratorGetNext:16' shape=(None,) dtype=string>, 'Rosiglitazone_Maleate': <tf.Tensor 'IteratorGetNext:17' shape=(None,) dtype=string>, 'Tolazamide': <tf.Tensor 'IteratorGetNext:18' shape=(None,) dtype=string>, 'Tolbutamide': <tf.Tensor 'IteratorGetNext:19' shape=(None,) dtype=string>, 'admission_type_id': <tf.Tensor 'IteratorGetNext:21' shape=(None,) dtype=int64>, 'discharge_disposition_id': <tf.Tensor 'IteratorGetNext:23' shape=(None,) dtype=int64>, 'admission_source_id': <tf.Tensor 'IteratorGetNext:20' shape=(None,) dtype=int64>, 'num_lab_procedures': <tf.Tensor 'IteratorGetNext:26' shape=(None,) dtype=int64>, 'number_diagnoses': <tf.Tensor 'IteratorGetNext:29' shape=(None,) dtype=int64>, 'num_medications': <tf.Tensor 'IteratorGetNext:27' shape=(None,) dtype=int64>, 'num_procedures': <tf.Tensor 'IteratorGetNext:28' shape=(None,) dtype=int64>}. Consider rewriting this model with the Functional API.\n",
      "254/255 [============================>.] - ETA: 0s - loss: 44.1765 - mse: 40.4999WARNING:tensorflow:Layers in a Sequential model should only have a single input tensor. Received: inputs={'patient_nbr': <tf.Tensor 'IteratorGetNext:31' shape=(None,) dtype=int64>, 'medical_specialty': <tf.Tensor 'IteratorGetNext:25' shape=(None,) dtype=string>, 'primary_diagnosis_code': <tf.Tensor 'IteratorGetNext:32' shape=(None,) dtype=string>, 'other_diagnosis_codes': <tf.Tensor 'IteratorGetNext:30' shape=(None,) dtype=string>, 'race': <tf.Tensor 'IteratorGetNext:33' shape=(None,) dtype=string>, 'gender': <tf.Tensor 'IteratorGetNext:24' shape=(None,) dtype=string>, 'age': <tf.Tensor 'IteratorGetNext:22' shape=(None,) dtype=string>, 'Acarbose': <tf.Tensor 'IteratorGetNext:0' shape=(None,) dtype=string>, 'Glimepiride': <tf.Tensor 'IteratorGetNext:1' shape=(None,) dtype=string>, 'Glipizide': <tf.Tensor 'IteratorGetNext:2' shape=(None,) dtype=string>, 'Glipizide_And_Metformin_Hcl': <tf.Tensor 'IteratorGetNext:3' shape=(None,) dtype=string>, 'Glipizide_And_Metformin_Hydrochloride': <tf.Tensor 'IteratorGetNext:4' shape=(None,) dtype=string>, 'Glyburide': <tf.Tensor 'IteratorGetNext:5' shape=(None,) dtype=string>, 'Glyburide_And_Metformin_Hydrochloride': <tf.Tensor 'IteratorGetNext:7' shape=(None,) dtype=string>, 'Glyburide-metformin_Hydrochloride': <tf.Tensor 'IteratorGetNext:6' shape=(None,) dtype=string>, 'Human_Insulin': <tf.Tensor 'IteratorGetNext:8' shape=(None,) dtype=string>, 'Insulin_Human': <tf.Tensor 'IteratorGetNext:9' shape=(None,) dtype=string>, 'Metformin_Hcl': <tf.Tensor 'IteratorGetNext:10' shape=(None,) dtype=string>, 'Metformin_Hydrochloride': <tf.Tensor 'IteratorGetNext:11' shape=(None,) dtype=string>, 'Miglitol': <tf.Tensor 'IteratorGetNext:12' shape=(None,) dtype=string>, 'Nateglinide': <tf.Tensor 'IteratorGetNext:13' shape=(None,) dtype=string>, 'Pioglitazone': <tf.Tensor 'IteratorGetNext:14' shape=(None,) dtype=string>, 'Pioglitazone_Hydrochloride_And_Glimepiride': <tf.Tensor 'IteratorGetNext:15' shape=(None,) dtype=string>, 'Repaglinide': <tf.Tensor 'IteratorGetNext:16' shape=(None,) dtype=string>, 'Rosiglitazone_Maleate': <tf.Tensor 'IteratorGetNext:17' shape=(None,) dtype=string>, 'Tolazamide': <tf.Tensor 'IteratorGetNext:18' shape=(None,) dtype=string>, 'Tolbutamide': <tf.Tensor 'IteratorGetNext:19' shape=(None,) dtype=string>, 'admission_type_id': <tf.Tensor 'IteratorGetNext:21' shape=(None,) dtype=int64>, 'discharge_disposition_id': <tf.Tensor 'IteratorGetNext:23' shape=(None,) dtype=int64>, 'admission_source_id': <tf.Tensor 'IteratorGetNext:20' shape=(None,) dtype=int64>, 'num_lab_procedures': <tf.Tensor 'IteratorGetNext:26' shape=(None,) dtype=int64>, 'number_diagnoses': <tf.Tensor 'IteratorGetNext:29' shape=(None,) dtype=int64>, 'num_medications': <tf.Tensor 'IteratorGetNext:27' shape=(None,) dtype=int64>, 'num_procedures': <tf.Tensor 'IteratorGetNext:28' shape=(None,) dtype=int64>}. Consider rewriting this model with the Functional API.\n",
      "255/255 [==============================] - 15s 47ms/step - loss: 44.1404 - mse: 40.4657 - val_loss: 31.9620 - val_mse: 28.2057 - lr: 0.0010\n",
      "Epoch 2/100\n",
      "255/255 [==============================] - 11s 40ms/step - loss: 26.1312 - mse: 22.0577 - val_loss: 23.0748 - val_mse: 18.4606 - lr: 0.0010\n",
      "Epoch 3/100\n",
      "255/255 [==============================] - 10s 40ms/step - loss: 21.6264 - mse: 17.1258 - val_loss: 25.6835 - val_mse: 21.1635 - lr: 0.0010\n",
      "Epoch 4/100\n",
      "255/255 [==============================] - 11s 40ms/step - loss: 19.5729 - mse: 14.7669 - val_loss: 47.3472 - val_mse: 42.7055 - lr: 0.0010\n",
      "Epoch 5/100\n",
      "255/255 [==============================] - 11s 40ms/step - loss: 17.7761 - mse: 13.0454 - val_loss: 121.8530 - val_mse: 116.9858 - lr: 0.0010\n",
      "Epoch 6/100\n",
      "255/255 [==============================] - 11s 41ms/step - loss: 16.6866 - mse: 12.0003 - val_loss: 21.2437 - val_mse: 16.4727 - lr: 0.0010\n",
      "Epoch 7/100\n",
      "255/255 [==============================] - 11s 40ms/step - loss: 15.1746 - mse: 10.6474 - val_loss: 27.7025 - val_mse: 23.5244 - lr: 0.0010\n",
      "Epoch 8/100\n",
      "255/255 [==============================] - 11s 41ms/step - loss: 14.2471 - mse: 10.1126 - val_loss: 18.1187 - val_mse: 14.3046 - lr: 0.0010\n",
      "Epoch 9/100\n",
      "255/255 [==============================] - 11s 41ms/step - loss: 13.6286 - mse: 9.7735 - val_loss: 19.8781 - val_mse: 16.0834 - lr: 0.0010\n",
      "Epoch 10/100\n",
      "255/255 [==============================] - 11s 41ms/step - loss: 12.5947 - mse: 9.1984 - val_loss: 17.6239 - val_mse: 14.2071 - lr: 0.0010\n",
      "Epoch 11/100\n",
      "255/255 [==============================] - 11s 41ms/step - loss: 12.1196 - mse: 8.7659 - val_loss: 16.8945 - val_mse: 13.7748 - lr: 0.0010\n",
      "Epoch 12/100\n",
      "255/255 [==============================] - 11s 40ms/step - loss: 11.1880 - mse: 8.1008 - val_loss: 19.6752 - val_mse: 16.8440 - lr: 0.0010\n",
      "Epoch 13/100\n",
      "255/255 [==============================] - 11s 41ms/step - loss: 11.0874 - mse: 8.1441 - val_loss: 14.2556 - val_mse: 11.2569 - lr: 0.0010\n",
      "Epoch 14/100\n",
      "255/255 [==============================] - 11s 40ms/step - loss: 10.4188 - mse: 7.5938 - val_loss: 12.9331 - val_mse: 10.2087 - lr: 0.0010\n",
      "Epoch 15/100\n",
      "255/255 [==============================] - 11s 41ms/step - loss: 9.9714 - mse: 7.3732 - val_loss: 13.9900 - val_mse: 11.3583 - lr: 0.0010\n",
      "Epoch 16/100\n",
      "255/255 [==============================] - 10s 40ms/step - loss: 9.7033 - mse: 7.1263 - val_loss: 15.2701 - val_mse: 12.5005 - lr: 0.0010\n",
      "Epoch 17/100\n",
      "255/255 [==============================] - 11s 41ms/step - loss: 9.4839 - mse: 6.8977 - val_loss: 16.4455 - val_mse: 13.7157 - lr: 0.0010\n",
      "Epoch 18/100\n",
      "255/255 [==============================] - 10s 40ms/step - loss: 9.1266 - mse: 6.5900 - val_loss: 14.0471 - val_mse: 11.4131 - lr: 0.0010\n",
      "Epoch 19/100\n",
      "255/255 [==============================] - 11s 41ms/step - loss: 8.9794 - mse: 6.4738 - val_loss: 14.0503 - val_mse: 11.4797 - lr: 0.0010\n",
      "Epoch 20/100\n",
      "255/255 [==============================] - 11s 42ms/step - loss: 9.1425 - mse: 6.5856 - val_loss: 16.2067 - val_mse: 13.6775 - lr: 0.0010\n",
      "Epoch 21/100\n",
      "255/255 [==============================] - 11s 41ms/step - loss: 8.8313 - mse: 6.2953 - val_loss: 16.8580 - val_mse: 14.3322 - lr: 0.0010\n",
      "Epoch 22/100\n",
      "255/255 [==============================] - 11s 44ms/step - loss: 8.3305 - mse: 5.8856 - val_loss: 15.3756 - val_mse: 12.9490 - lr: 0.0010\n",
      "Epoch 23/100\n",
      "255/255 [==============================] - 11s 41ms/step - loss: 8.3956 - mse: 6.0370 - val_loss: 15.4420 - val_mse: 13.0625 - lr: 0.0010\n",
      "Epoch 24/100\n",
      "255/255 [==============================] - 11s 41ms/step - loss: 8.2870 - mse: 5.9652 - val_loss: 18.7890 - val_mse: 16.4226 - lr: 0.0010\n",
      "Epoch 25/100\n",
      "255/255 [==============================] - 11s 41ms/step - loss: 8.0946 - mse: 5.8167 - val_loss: 14.0376 - val_mse: 11.6869 - lr: 0.0010\n",
      "Epoch 26/100\n",
      "255/255 [==============================] - 11s 42ms/step - loss: 8.0552 - mse: 5.8049 - val_loss: 16.5126 - val_mse: 14.1884 - lr: 0.0010\n",
      "Epoch 27/100\n",
      "255/255 [==============================] - 11s 41ms/step - loss: 7.8928 - mse: 5.6787 - val_loss: 14.5995 - val_mse: 12.3272 - lr: 0.0010\n",
      "Epoch 28/100\n",
      "255/255 [==============================] - 11s 41ms/step - loss: 7.6928 - mse: 5.5032 - val_loss: 17.5895 - val_mse: 15.4608 - lr: 0.0010\n",
      "Epoch 29/100\n",
      "255/255 [==============================] - 11s 40ms/step - loss: 7.4385 - mse: 5.2354 - val_loss: 15.8329 - val_mse: 13.6272 - lr: 0.0010\n",
      "Epoch 30/100\n",
      "255/255 [==============================] - 11s 41ms/step - loss: 7.3875 - mse: 5.1871 - val_loss: 16.1266 - val_mse: 14.0385 - lr: 0.0010\n",
      "Epoch 31/100\n",
      "255/255 [==============================] - 11s 40ms/step - loss: 7.4334 - mse: 5.2892 - val_loss: 18.1683 - val_mse: 16.0021 - lr: 0.0010\n",
      "Epoch 32/100\n",
      "255/255 [==============================] - 11s 41ms/step - loss: 7.1722 - mse: 5.1295 - val_loss: 16.5301 - val_mse: 14.4625 - lr: 0.0010\n",
      "Epoch 33/100\n",
      "255/255 [==============================] - 11s 41ms/step - loss: 7.1200 - mse: 5.0325 - val_loss: 16.7548 - val_mse: 14.7327 - lr: 0.0010\n",
      "Epoch 34/100\n",
      "255/255 [==============================] - 11s 41ms/step - loss: 7.2384 - mse: 5.2013 - val_loss: 15.0805 - val_mse: 13.0989 - lr: 0.0010\n",
      "Epoch 35/100\n",
      "255/255 [==============================] - 11s 41ms/step - loss: 7.0230 - mse: 4.9885 - val_loss: 18.6330 - val_mse: 16.5848 - lr: 0.0010\n",
      "Epoch 36/100\n",
      "255/255 [==============================] - 11s 42ms/step - loss: 7.0395 - mse: 5.0490 - val_loss: 18.3418 - val_mse: 16.3213 - lr: 0.0010\n",
      "Epoch 37/100\n",
      "255/255 [==============================] - 11s 42ms/step - loss: 6.9568 - mse: 4.9420 - val_loss: 16.6258 - val_mse: 14.6775 - lr: 0.0010\n",
      "Epoch 38/100\n",
      "255/255 [==============================] - 11s 41ms/step - loss: 6.9436 - mse: 5.0137 - val_loss: 16.7554 - val_mse: 14.7839 - lr: 0.0010\n",
      "Epoch 39/100\n",
      "255/255 [==============================] - 11s 41ms/step - loss: 6.8231 - mse: 4.7768 - val_loss: 18.3882 - val_mse: 16.2734 - lr: 0.0010\n",
      "Epoch 40/100\n",
      "255/255 [==============================] - 11s 41ms/step - loss: 6.8683 - mse: 4.8787 - val_loss: 14.9105 - val_mse: 13.0781 - lr: 0.0010\n",
      "Epoch 41/100\n",
      "255/255 [==============================] - 12s 45ms/step - loss: 6.8370 - mse: 4.8115 - val_loss: 18.6190 - val_mse: 16.6794 - lr: 0.0010\n",
      "Epoch 42/100\n",
      "255/255 [==============================] - 12s 45ms/step - loss: 6.7816 - mse: 4.9054 - val_loss: 21.0680 - val_mse: 19.0555 - lr: 0.0010\n",
      "Epoch 43/100\n",
      "255/255 [==============================] - 11s 41ms/step - loss: 6.3274 - mse: 4.5470 - val_loss: 18.1342 - val_mse: 16.4059 - lr: 5.0000e-04\n",
      "Epoch 44/100\n",
      "255/255 [==============================] - 11s 41ms/step - loss: 6.0972 - mse: 4.4049 - val_loss: 18.3490 - val_mse: 16.7705 - lr: 5.0000e-04\n",
      "Epoch 45/100\n",
      "255/255 [==============================] - 11s 41ms/step - loss: 5.6475 - mse: 4.1063 - val_loss: 19.3191 - val_mse: 17.7990 - lr: 5.0000e-04\n",
      "Epoch 46/100\n",
      "255/255 [==============================] - 11s 43ms/step - loss: 5.7103 - mse: 4.1748 - val_loss: 14.8310 - val_mse: 13.4564 - lr: 5.0000e-04\n",
      "Epoch 47/100\n",
      "255/255 [==============================] - 11s 40ms/step - loss: 5.5689 - mse: 4.1927 - val_loss: 19.3035 - val_mse: 17.9355 - lr: 5.0000e-04\n",
      "Epoch 48/100\n",
      "255/255 [==============================] - 11s 40ms/step - loss: 5.4141 - mse: 4.0367 - val_loss: 19.3932 - val_mse: 17.9930 - lr: 5.0000e-04\n",
      "Epoch 49/100\n",
      "255/255 [==============================] - 11s 41ms/step - loss: 5.4088 - mse: 4.1128 - val_loss: 17.3488 - val_mse: 16.0065 - lr: 5.0000e-04\n",
      "Epoch 50/100\n",
      "255/255 [==============================] - 11s 41ms/step - loss: 5.4771 - mse: 4.2046 - val_loss: 18.4267 - val_mse: 17.0876 - lr: 5.0000e-04\n",
      "Epoch 51/100\n",
      "255/255 [==============================] - 11s 41ms/step - loss: 5.5579 - mse: 4.2456 - val_loss: 18.2222 - val_mse: 17.0046 - lr: 5.0000e-04\n",
      "Epoch 52/100\n",
      "255/255 [==============================] - 11s 41ms/step - loss: 5.3500 - mse: 4.1416 - val_loss: 18.5634 - val_mse: 17.3891 - lr: 2.5000e-04\n",
      "Epoch 53/100\n",
      "255/255 [==============================] - 11s 41ms/step - loss: 5.1478 - mse: 3.9655 - val_loss: 16.7926 - val_mse: 15.5640 - lr: 2.5000e-04\n",
      "Epoch 54/100\n",
      "255/255 [==============================] - 11s 41ms/step - loss: 4.8960 - mse: 3.7879 - val_loss: 19.2911 - val_mse: 18.1294 - lr: 2.5000e-04\n",
      "Epoch 55/100\n",
      "255/255 [==============================] - 11s 41ms/step - loss: 4.9022 - mse: 3.7532 - val_loss: 15.5377 - val_mse: 14.5514 - lr: 2.5000e-04\n",
      "Epoch 56/100\n",
      "255/255 [==============================] - 11s 42ms/step - loss: 4.8572 - mse: 3.7828 - val_loss: 16.4544 - val_mse: 15.3914 - lr: 2.5000e-04\n",
      "Epoch 57/100\n",
      "255/255 [==============================] - 11s 42ms/step - loss: 4.6938 - mse: 3.6279 - val_loss: 20.7433 - val_mse: 19.6208 - lr: 2.5000e-04\n",
      "Epoch 58/100\n",
      "255/255 [==============================] - 10s 40ms/step - loss: 4.7939 - mse: 3.7562 - val_loss: 20.7198 - val_mse: 19.6898 - lr: 2.5000e-04\n",
      "Epoch 59/100\n",
      "255/255 [==============================] - 11s 42ms/step - loss: 4.5761 - mse: 3.5776 - val_loss: 16.2065 - val_mse: 15.2041 - lr: 2.5000e-04\n",
      "Epoch 60/100\n",
      "255/255 [==============================] - 12s 45ms/step - loss: 4.5859 - mse: 3.6259 - val_loss: 17.7405 - val_mse: 16.6981 - lr: 2.5000e-04\n",
      "Epoch 61/100\n",
      "255/255 [==============================] - 11s 43ms/step - loss: 4.5983 - mse: 3.6108 - val_loss: 18.9850 - val_mse: 18.1340 - lr: 2.5000e-04\n",
      "Epoch 62/100\n",
      "255/255 [==============================] - 11s 42ms/step - loss: 4.6574 - mse: 3.6871 - val_loss: 18.0845 - val_mse: 17.1609 - lr: 2.5000e-04\n",
      "Epoch 63/100\n",
      "255/255 [==============================] - 11s 43ms/step - loss: 4.5503 - mse: 3.6425 - val_loss: 19.7930 - val_mse: 18.8530 - lr: 1.2500e-04\n",
      "Epoch 64/100\n",
      "255/255 [==============================] - 12s 45ms/step - loss: 4.4916 - mse: 3.5379 - val_loss: 18.1796 - val_mse: 17.2804 - lr: 1.2500e-04\n",
      "Epoch 65/100\n",
      "255/255 [==============================] - 12s 45ms/step - loss: 4.4541 - mse: 3.5306 - val_loss: 19.5526 - val_mse: 18.7039 - lr: 1.2500e-04\n",
      "Epoch 66/100\n",
      "255/255 [==============================] - 12s 45ms/step - loss: 4.2731 - mse: 3.3478 - val_loss: 17.6471 - val_mse: 16.6989 - lr: 1.2500e-04\n",
      "Epoch 67/100\n",
      "255/255 [==============================] - 12s 44ms/step - loss: 4.4314 - mse: 3.5235 - val_loss: 19.3660 - val_mse: 18.4876 - lr: 1.2500e-04\n",
      "Epoch 68/100\n",
      "255/255 [==============================] - 12s 45ms/step - loss: 4.3422 - mse: 3.4867 - val_loss: 18.6251 - val_mse: 17.8435 - lr: 1.2500e-04\n",
      "Epoch 69/100\n",
      "255/255 [==============================] - 12s 44ms/step - loss: 4.3123 - mse: 3.4647 - val_loss: 19.7821 - val_mse: 18.8820 - lr: 1.2500e-04\n",
      "Epoch 70/100\n",
      "255/255 [==============================] - 12s 44ms/step - loss: 4.2690 - mse: 3.4401 - val_loss: 16.4958 - val_mse: 15.6355 - lr: 6.2500e-05\n",
      "Epoch 71/100\n",
      "255/255 [==============================] - 12s 44ms/step - loss: 4.2473 - mse: 3.3756 - val_loss: 19.6716 - val_mse: 18.7929 - lr: 6.2500e-05\n"
     ]
    }
   ],
   "source": [
    "diabetes_model, history = build_diabetes_model(diabetes_train_ds, diabetes_val_ds,  claim_feature_layer,  epochs=100)"
   ]
  },
  {
   "cell_type": "markdown",
   "metadata": {},
   "source": [
    "## Show Model Uncertainty Range with TF Probability"
   ]
  },
  {
   "cell_type": "markdown",
   "metadata": {},
   "source": [
    "**Question 9**: Now that we have trained a model with TF Probability layers, we can extract the mean and standard deviation for each prediction. Please fill in the answer for the m and s variables below. The code for getting the predictions is provided for you below."
   ]
  },
  {
   "cell_type": "code",
   "execution_count": 51,
   "metadata": {},
   "outputs": [
    {
     "name": "stdout",
     "output_type": "stream",
     "text": [
      "WARNING:tensorflow:Layers in a Sequential model should only have a single input tensor. Received: inputs={'medical_specialty': 0                             ?\n",
      "1              InternalMedicine\n",
      "4                             ?\n",
      "6        Family/GeneralPractice\n",
      "13                            ?\n",
      "                  ...          \n",
      "54238                         ?\n",
      "54239                         ?\n",
      "54250                         ?\n",
      "54257                         ?\n",
      "54258                         ?\n",
      "Name: medical_specialty, Length: 10855, dtype: object, 'primary_diagnosis_code': 0        398\n",
      "1        434\n",
      "4        414\n",
      "6        428\n",
      "13       410\n",
      "        ... \n",
      "54238    823\n",
      "54239    174\n",
      "54250    486\n",
      "54257    491\n",
      "54258    491\n",
      "Name: primary_diagnosis_code, Length: 10855, dtype: object, 'other_diagnosis_codes': 0              427|38\n",
      "1             198|486\n",
      "4             411|250\n",
      "6        250.43|250.6\n",
      "13            411|414\n",
      "             ...     \n",
      "54238        891|E818\n",
      "54239         196|285\n",
      "54250         428|428\n",
      "54257         250|272\n",
      "54258         403|585\n",
      "Name: other_diagnosis_codes, Length: 10855, dtype: object, 'race': 0              Caucasian\n",
      "1              Caucasian\n",
      "4              Caucasian\n",
      "6              Caucasian\n",
      "13       AfricanAmerican\n",
      "              ...       \n",
      "54238          Caucasian\n",
      "54239          Caucasian\n",
      "54250          Caucasian\n",
      "54257                  ?\n",
      "54258          Caucasian\n",
      "Name: race, Length: 10855, dtype: object, 'gender': 0        Female\n",
      "1        Female\n",
      "4          Male\n",
      "6        Female\n",
      "13         Male\n",
      "          ...  \n",
      "54238      Male\n",
      "54239    Female\n",
      "54250    Female\n",
      "54257    Female\n",
      "54258    Female\n",
      "Name: gender, Length: 10855, dtype: object, 'age': 0         [80-90)\n",
      "1        [90-100)\n",
      "4         [50-60)\n",
      "6         [40-50)\n",
      "13        [50-60)\n",
      "           ...   \n",
      "54238     [50-60)\n",
      "54239     [50-60)\n",
      "54250     [70-80)\n",
      "54257     [70-80)\n",
      "54258     [80-90)\n",
      "Name: age, Length: 10855, dtype: object, 'Acarbose': 0        0\n",
      "1        0\n",
      "4        0\n",
      "6        0\n",
      "13       0\n",
      "        ..\n",
      "54238    0\n",
      "54239    0\n",
      "54250    0\n",
      "54257    0\n",
      "54258    0\n",
      "Name: Acarbose, Length: 10855, dtype: object, 'Glimepiride': 0        0\n",
      "1        0\n",
      "4        0\n",
      "6        0\n",
      "13       0\n",
      "        ..\n",
      "54238    0\n",
      "54239    0\n",
      "54250    0\n",
      "54257    0\n",
      "54258    1\n",
      "Name: Glimepiride, Length: 10855, dtype: object, 'Glipizide': 0        0\n",
      "1        0\n",
      "4        0\n",
      "6        0\n",
      "13       1\n",
      "        ..\n",
      "54238    0\n",
      "54239    0\n",
      "54250    0\n",
      "54257    0\n",
      "54258    0\n",
      "Name: Glipizide, Length: 10855, dtype: object, 'Glipizide_And_Metformin_Hcl': 0        0\n",
      "1        0\n",
      "4        0\n",
      "6        0\n",
      "13       0\n",
      "        ..\n",
      "54238    0\n",
      "54239    0\n",
      "54250    0\n",
      "54257    0\n",
      "54258    0\n",
      "Name: Glipizide_And_Metformin_Hcl, Length: 10855, dtype: object, 'Glipizide_And_Metformin_Hydrochloride': 0        0\n",
      "1        0\n",
      "4        0\n",
      "6        0\n",
      "13       0\n",
      "        ..\n",
      "54238    0\n",
      "54239    0\n",
      "54250    0\n",
      "54257    0\n",
      "54258    0\n",
      "Name: Glipizide_And_Metformin_Hydrochloride, Length: 10855, dtype: object, 'Glyburide': 0        0\n",
      "1        0\n",
      "4        0\n",
      "6        0\n",
      "13       0\n",
      "        ..\n",
      "54238    0\n",
      "54239    0\n",
      "54250    0\n",
      "54257    0\n",
      "54258    0\n",
      "Name: Glyburide, Length: 10855, dtype: object, 'Glyburide_And_Metformin_Hydrochloride': 0        0\n",
      "1        0\n",
      "4        0\n",
      "6        0\n",
      "13       0\n",
      "        ..\n",
      "54238    0\n",
      "54239    0\n",
      "54250    0\n",
      "54257    0\n",
      "54258    0\n",
      "Name: Glyburide_And_Metformin_Hydrochloride, Length: 10855, dtype: object, 'Glyburide-metformin_Hydrochloride': 0        0\n",
      "1        0\n",
      "4        0\n",
      "6        0\n",
      "13       0\n",
      "        ..\n",
      "54238    0\n",
      "54239    0\n",
      "54250    0\n",
      "54257    1\n",
      "54258    0\n",
      "Name: Glyburide-metformin_Hydrochloride, Length: 10855, dtype: object, 'Human_Insulin': 0        0\n",
      "1        1\n",
      "4        0\n",
      "6        0\n",
      "13       0\n",
      "        ..\n",
      "54238    0\n",
      "54239    0\n",
      "54250    0\n",
      "54257    0\n",
      "54258    0\n",
      "Name: Human_Insulin, Length: 10855, dtype: object, 'Insulin_Human': 0        1\n",
      "1        0\n",
      "4        1\n",
      "6        0\n",
      "13       0\n",
      "        ..\n",
      "54238    0\n",
      "54239    0\n",
      "54250    0\n",
      "54257    0\n",
      "54258    0\n",
      "Name: Insulin_Human, Length: 10855, dtype: object, 'Metformin_Hcl': 0        0\n",
      "1        0\n",
      "4        0\n",
      "6        0\n",
      "13       0\n",
      "        ..\n",
      "54238    0\n",
      "54239    0\n",
      "54250    0\n",
      "54257    0\n",
      "54258    0\n",
      "Name: Metformin_Hcl, Length: 10855, dtype: object, 'Metformin_Hydrochloride': 0        0\n",
      "1        0\n",
      "4        0\n",
      "6        0\n",
      "13       0\n",
      "        ..\n",
      "54238    1\n",
      "54239    1\n",
      "54250    0\n",
      "54257    0\n",
      "54258    0\n",
      "Name: Metformin_Hydrochloride, Length: 10855, dtype: object, 'Miglitol': 0        0\n",
      "1        0\n",
      "4        0\n",
      "6        0\n",
      "13       0\n",
      "        ..\n",
      "54238    0\n",
      "54239    0\n",
      "54250    0\n",
      "54257    0\n",
      "54258    0\n",
      "Name: Miglitol, Length: 10855, dtype: object, 'Nateglinide': 0        0\n",
      "1        0\n",
      "4        0\n",
      "6        0\n",
      "13       0\n",
      "        ..\n",
      "54238    0\n",
      "54239    0\n",
      "54250    0\n",
      "54257    0\n",
      "54258    0\n",
      "Name: Nateglinide, Length: 10855, dtype: object, 'Pioglitazone': 0        0\n",
      "1        0\n",
      "4        0\n",
      "6        0\n",
      "13       0\n",
      "        ..\n",
      "54238    0\n",
      "54239    0\n",
      "54250    1\n",
      "54257    0\n",
      "54258    0\n",
      "Name: Pioglitazone, Length: 10855, dtype: object, 'Pioglitazone_Hydrochloride_And_Glimepiride': 0        0\n",
      "1        0\n",
      "4        0\n",
      "6        0\n",
      "13       0\n",
      "        ..\n",
      "54238    0\n",
      "54239    0\n",
      "54250    0\n",
      "54257    0\n",
      "54258    0\n",
      "Name: Pioglitazone_Hydrochloride_And_Glimepiride, Length: 10855, dtype: object, 'Repaglinide': 0        0\n",
      "1        0\n",
      "4        0\n",
      "6        1\n",
      "13       0\n",
      "        ..\n",
      "54238    0\n",
      "54239    0\n",
      "54250    0\n",
      "54257    0\n",
      "54258    0\n",
      "Name: Repaglinide, Length: 10855, dtype: object, 'Rosiglitazone_Maleate': 0        0\n",
      "1        0\n",
      "4        0\n",
      "6        0\n",
      "13       0\n",
      "        ..\n",
      "54238    0\n",
      "54239    0\n",
      "54250    0\n",
      "54257    0\n",
      "54258    0\n",
      "Name: Rosiglitazone_Maleate, Length: 10855, dtype: object, 'Tolazamide': 0        0\n",
      "1        0\n",
      "4        0\n",
      "6        0\n",
      "13       0\n",
      "        ..\n",
      "54238    0\n",
      "54239    0\n",
      "54250    0\n",
      "54257    0\n",
      "54258    0\n",
      "Name: Tolazamide, Length: 10855, dtype: object, 'Tolbutamide': 0        0\n",
      "1        0\n",
      "4        0\n",
      "6        0\n",
      "13       0\n",
      "        ..\n",
      "54238    0\n",
      "54239    0\n",
      "54250    0\n",
      "54257    0\n",
      "54258    0\n",
      "Name: Tolbutamide, Length: 10855, dtype: object, 'admission_type_id': 0        2\n",
      "1        3\n",
      "4        2\n",
      "6        1\n",
      "13       1\n",
      "        ..\n",
      "54238    1\n",
      "54239    3\n",
      "54250    1\n",
      "54257    2\n",
      "54258    1\n",
      "Name: admission_type_id, Length: 10855, dtype: int64, 'discharge_disposition_id': 0        1\n",
      "1        3\n",
      "4        1\n",
      "6        3\n",
      "13       1\n",
      "        ..\n",
      "54238    3\n",
      "54239    3\n",
      "54250    1\n",
      "54257    1\n",
      "54258    1\n",
      "Name: discharge_disposition_id, Length: 10855, dtype: int64, 'admission_source_id': 0        4\n",
      "1        4\n",
      "4        2\n",
      "6        7\n",
      "13       7\n",
      "        ..\n",
      "54238    7\n",
      "54239    1\n",
      "54250    7\n",
      "54257    1\n",
      "54258    7\n",
      "Name: admission_source_id, Length: 10855, dtype: int64, 'num_lab_procedures': 0        68\n",
      "1        33\n",
      "4        31\n",
      "6        60\n",
      "13       45\n",
      "         ..\n",
      "54238    39\n",
      "54239    38\n",
      "54250    58\n",
      "54257    41\n",
      "54258    51\n",
      "Name: num_lab_procedures, Length: 10855, dtype: int64, 'number_diagnoses': 0        8\n",
      "1        8\n",
      "4        9\n",
      "6        8\n",
      "13       8\n",
      "        ..\n",
      "54238    7\n",
      "54239    9\n",
      "54250    9\n",
      "54257    6\n",
      "54258    9\n",
      "Name: number_diagnoses, Length: 10855, dtype: int64, 'num_medications': 0        28\n",
      "1        18\n",
      "4        16\n",
      "6        15\n",
      "13       17\n",
      "         ..\n",
      "54238    28\n",
      "54239    31\n",
      "54250    19\n",
      "54257    13\n",
      "54258    17\n",
      "Name: num_medications, Length: 10855, dtype: int64, 'num_procedures': 0        2\n",
      "1        3\n",
      "4        6\n",
      "6        0\n",
      "13       4\n",
      "        ..\n",
      "54238    2\n",
      "54239    3\n",
      "54250    0\n",
      "54257    0\n",
      "54258    0\n",
      "Name: num_procedures, Length: 10855, dtype: int64}. Consider rewriting this model with the Functional API.\n",
      "WARNING:tensorflow:Layers in a Sequential model should only have a single input tensor. Received: inputs={'patient_nbr': <tf.Tensor 'IteratorGetNext:31' shape=(None,) dtype=int64>, 'medical_specialty': <tf.Tensor 'IteratorGetNext:25' shape=(None,) dtype=string>, 'primary_diagnosis_code': <tf.Tensor 'IteratorGetNext:32' shape=(None,) dtype=string>, 'other_diagnosis_codes': <tf.Tensor 'IteratorGetNext:30' shape=(None,) dtype=string>, 'race': <tf.Tensor 'IteratorGetNext:33' shape=(None,) dtype=string>, 'gender': <tf.Tensor 'IteratorGetNext:24' shape=(None,) dtype=string>, 'age': <tf.Tensor 'IteratorGetNext:22' shape=(None,) dtype=string>, 'Acarbose': <tf.Tensor 'IteratorGetNext:0' shape=(None,) dtype=string>, 'Glimepiride': <tf.Tensor 'IteratorGetNext:1' shape=(None,) dtype=string>, 'Glipizide': <tf.Tensor 'IteratorGetNext:2' shape=(None,) dtype=string>, 'Glipizide_And_Metformin_Hcl': <tf.Tensor 'IteratorGetNext:3' shape=(None,) dtype=string>, 'Glipizide_And_Metformin_Hydrochloride': <tf.Tensor 'IteratorGetNext:4' shape=(None,) dtype=string>, 'Glyburide': <tf.Tensor 'IteratorGetNext:5' shape=(None,) dtype=string>, 'Glyburide_And_Metformin_Hydrochloride': <tf.Tensor 'IteratorGetNext:7' shape=(None,) dtype=string>, 'Glyburide-metformin_Hydrochloride': <tf.Tensor 'IteratorGetNext:6' shape=(None,) dtype=string>, 'Human_Insulin': <tf.Tensor 'IteratorGetNext:8' shape=(None,) dtype=string>, 'Insulin_Human': <tf.Tensor 'IteratorGetNext:9' shape=(None,) dtype=string>, 'Metformin_Hcl': <tf.Tensor 'IteratorGetNext:10' shape=(None,) dtype=string>, 'Metformin_Hydrochloride': <tf.Tensor 'IteratorGetNext:11' shape=(None,) dtype=string>, 'Miglitol': <tf.Tensor 'IteratorGetNext:12' shape=(None,) dtype=string>, 'Nateglinide': <tf.Tensor 'IteratorGetNext:13' shape=(None,) dtype=string>, 'Pioglitazone': <tf.Tensor 'IteratorGetNext:14' shape=(None,) dtype=string>, 'Pioglitazone_Hydrochloride_And_Glimepiride': <tf.Tensor 'IteratorGetNext:15' shape=(None,) dtype=string>, 'Repaglinide': <tf.Tensor 'IteratorGetNext:16' shape=(None,) dtype=string>, 'Rosiglitazone_Maleate': <tf.Tensor 'IteratorGetNext:17' shape=(None,) dtype=string>, 'Tolazamide': <tf.Tensor 'IteratorGetNext:18' shape=(None,) dtype=string>, 'Tolbutamide': <tf.Tensor 'IteratorGetNext:19' shape=(None,) dtype=string>, 'admission_type_id': <tf.Tensor 'IteratorGetNext:21' shape=(None,) dtype=int64>, 'discharge_disposition_id': <tf.Tensor 'IteratorGetNext:23' shape=(None,) dtype=int64>, 'admission_source_id': <tf.Tensor 'IteratorGetNext:20' shape=(None,) dtype=int64>, 'num_lab_procedures': <tf.Tensor 'IteratorGetNext:26' shape=(None,) dtype=int64>, 'number_diagnoses': <tf.Tensor 'IteratorGetNext:29' shape=(None,) dtype=int64>, 'num_medications': <tf.Tensor 'IteratorGetNext:27' shape=(None,) dtype=int64>, 'num_procedures': <tf.Tensor 'IteratorGetNext:28' shape=(None,) dtype=int64>}. Consider rewriting this model with the Functional API.\n",
      "85/85 [==============================] - 3s 23ms/step\n"
     ]
    }
   ],
   "source": [
    "feature_list = student_categorical_col_list + student_numerical_col_list\n",
    "diabetes_x_tst = dict(d_test[feature_list])\n",
    "diabetes_yhat = diabetes_model(diabetes_x_tst)\n",
    "preds = diabetes_model.predict(diabetes_test_ds)"
   ]
  },
  {
   "cell_type": "code",
   "execution_count": 52,
   "metadata": {},
   "outputs": [],
   "source": [
    "from student_utils import get_mean_std_from_preds\n",
    "m, s = get_mean_std_from_preds(diabetes_yhat)"
   ]
  },
  {
   "cell_type": "markdown",
   "metadata": {},
   "source": [
    "## Show Prediction Output "
   ]
  },
  {
   "cell_type": "code",
   "execution_count": 53,
   "metadata": {},
   "outputs": [],
   "source": [
    "prob_outputs = {\n",
    "    \"pred\": preds.flatten(),\n",
    "    \"actual_value\": d_test['time_in_hospital'].values,\n",
    "    \"pred_mean\": m.numpy().flatten(),\n",
    "    \"pred_std\": s.numpy().flatten()\n",
    "}\n",
    "prob_output_df = pd.DataFrame(prob_outputs)"
   ]
  },
  {
   "cell_type": "code",
   "execution_count": 54,
   "metadata": {},
   "outputs": [
    {
     "data": {
      "text/html": [
       "<div>\n",
       "<style scoped>\n",
       "    .dataframe tbody tr th:only-of-type {\n",
       "        vertical-align: middle;\n",
       "    }\n",
       "\n",
       "    .dataframe tbody tr th {\n",
       "        vertical-align: top;\n",
       "    }\n",
       "\n",
       "    .dataframe thead th {\n",
       "        text-align: right;\n",
       "    }\n",
       "</style>\n",
       "<table border=\"1\" class=\"dataframe\">\n",
       "  <thead>\n",
       "    <tr style=\"text-align: right;\">\n",
       "      <th></th>\n",
       "      <th>pred</th>\n",
       "      <th>actual_value</th>\n",
       "      <th>pred_mean</th>\n",
       "      <th>pred_std</th>\n",
       "    </tr>\n",
       "  </thead>\n",
       "  <tbody>\n",
       "    <tr>\n",
       "      <th>0</th>\n",
       "      <td>30.754951</td>\n",
       "      <td>13.0</td>\n",
       "      <td>12.458013</td>\n",
       "      <td>0.716015</td>\n",
       "    </tr>\n",
       "    <tr>\n",
       "      <th>1</th>\n",
       "      <td>4.934911</td>\n",
       "      <td>12.0</td>\n",
       "      <td>5.485959</td>\n",
       "      <td>0.699781</td>\n",
       "    </tr>\n",
       "    <tr>\n",
       "      <th>2</th>\n",
       "      <td>3.443420</td>\n",
       "      <td>3.0</td>\n",
       "      <td>2.190468</td>\n",
       "      <td>0.690688</td>\n",
       "    </tr>\n",
       "    <tr>\n",
       "      <th>3</th>\n",
       "      <td>3.575365</td>\n",
       "      <td>7.0</td>\n",
       "      <td>2.470408</td>\n",
       "      <td>0.691646</td>\n",
       "    </tr>\n",
       "    <tr>\n",
       "      <th>4</th>\n",
       "      <td>8.764645</td>\n",
       "      <td>4.0</td>\n",
       "      <td>3.580246</td>\n",
       "      <td>0.693765</td>\n",
       "    </tr>\n",
       "  </tbody>\n",
       "</table>\n",
       "</div>"
      ],
      "text/plain": [
       "        pred  actual_value  pred_mean  pred_std\n",
       "0  30.754951          13.0  12.458013  0.716015\n",
       "1   4.934911          12.0   5.485959  0.699781\n",
       "2   3.443420           3.0   2.190468  0.690688\n",
       "3   3.575365           7.0   2.470408  0.691646\n",
       "4   8.764645           4.0   3.580246  0.693765"
      ]
     },
     "execution_count": 54,
     "metadata": {},
     "output_type": "execute_result"
    }
   ],
   "source": [
    "prob_output_df.head()"
   ]
  },
  {
   "cell_type": "markdown",
   "metadata": {},
   "source": [
    "## Convert Regression Output to Classification Output for Patient Selection"
   ]
  },
  {
   "cell_type": "markdown",
   "metadata": {},
   "source": [
    "**Question 10**: Given the output predictions, convert it to a binary label for whether the patient meets the time criteria or does not (HINT: use the mean prediction numpy array). The expected output is a numpy array with a 1 or 0 based off if the prediction meets or doesnt meet the criteria."
   ]
  },
  {
   "cell_type": "code",
   "execution_count": 55,
   "metadata": {},
   "outputs": [],
   "source": [
    "from student_utils import get_student_binary_prediction\n",
    "student_binary_prediction = get_student_binary_prediction(prob_output_df, 'pred_mean')"
   ]
  },
  {
   "cell_type": "markdown",
   "metadata": {},
   "source": [
    "### Add Binary Prediction to Test Dataframe"
   ]
  },
  {
   "cell_type": "markdown",
   "metadata": {},
   "source": [
    "Using the student_binary_prediction output that is a numpy array with binary labels, we can use this to add to a dataframe to better visualize and also to prepare the data for the Aequitas toolkit. The Aequitas toolkit requires that the predictions be mapped to a binary label for the predictions (called 'score' field) and the actual value (called 'label_value')."
   ]
  },
  {
   "cell_type": "code",
   "execution_count": 56,
   "metadata": {},
   "outputs": [
    {
     "name": "stderr",
     "output_type": "stream",
     "text": [
      "C:\\Users\\Thomas\\AppData\\Local\\Temp\\ipykernel_11704\\1960301630.py:3: SettingWithCopyWarning: \n",
      "A value is trying to be set on a copy of a slice from a DataFrame.\n",
      "Try using .loc[row_indexer,col_indexer] = value instead\n",
      "\n",
      "See the caveats in the documentation: https://pandas.pydata.org/pandas-docs/stable/user_guide/indexing.html#returning-a-view-versus-a-copy\n",
      "  test_df[c] = test_df[c].astype(str)\n",
      "C:\\Users\\Thomas\\AppData\\Local\\Temp\\ipykernel_11704\\1960301630.py:4: SettingWithCopyWarning: \n",
      "A value is trying to be set on a copy of a slice from a DataFrame.\n",
      "Try using .loc[row_indexer,col_indexer] = value instead\n",
      "\n",
      "See the caveats in the documentation: https://pandas.pydata.org/pandas-docs/stable/user_guide/indexing.html#returning-a-view-versus-a-copy\n",
      "  test_df['score'] = pred_np\n",
      "C:\\Users\\Thomas\\AppData\\Local\\Temp\\ipykernel_11704\\1960301630.py:5: SettingWithCopyWarning: \n",
      "A value is trying to be set on a copy of a slice from a DataFrame.\n",
      "Try using .loc[row_indexer,col_indexer] = value instead\n",
      "\n",
      "See the caveats in the documentation: https://pandas.pydata.org/pandas-docs/stable/user_guide/indexing.html#returning-a-view-versus-a-copy\n",
      "  test_df['label_value'] = test_df['time_in_hospital'].apply(lambda x: 1 if x >=5 else 0)\n"
     ]
    }
   ],
   "source": [
    "def add_pred_to_test(test_df, pred_np, demo_col_list):\n",
    "    for c in demo_col_list:\n",
    "        test_df[c] = test_df[c].astype(str)\n",
    "    test_df['score'] = pred_np\n",
    "    test_df['label_value'] = test_df['time_in_hospital'].apply(lambda x: 1 if x >=5 else 0)\n",
    "    return test_df\n",
    "\n",
    "pred_test_df = add_pred_to_test(d_test, student_binary_prediction, ['race', 'gender'])"
   ]
  },
  {
   "cell_type": "code",
   "execution_count": 57,
   "metadata": {},
   "outputs": [
    {
     "data": {
      "text/html": [
       "<div>\n",
       "<style scoped>\n",
       "    .dataframe tbody tr th:only-of-type {\n",
       "        vertical-align: middle;\n",
       "    }\n",
       "\n",
       "    .dataframe tbody tr th {\n",
       "        vertical-align: top;\n",
       "    }\n",
       "\n",
       "    .dataframe thead th {\n",
       "        text-align: right;\n",
       "    }\n",
       "</style>\n",
       "<table border=\"1\" class=\"dataframe\">\n",
       "  <thead>\n",
       "    <tr style=\"text-align: right;\">\n",
       "      <th></th>\n",
       "      <th>patient_nbr</th>\n",
       "      <th>gender</th>\n",
       "      <th>race</th>\n",
       "      <th>time_in_hospital</th>\n",
       "      <th>score</th>\n",
       "      <th>label_value</th>\n",
       "    </tr>\n",
       "  </thead>\n",
       "  <tbody>\n",
       "    <tr>\n",
       "      <th>0</th>\n",
       "      <td>48330783</td>\n",
       "      <td>Female</td>\n",
       "      <td>Caucasian</td>\n",
       "      <td>13.0</td>\n",
       "      <td>1</td>\n",
       "      <td>1</td>\n",
       "    </tr>\n",
       "    <tr>\n",
       "      <th>1</th>\n",
       "      <td>63555939</td>\n",
       "      <td>Female</td>\n",
       "      <td>Caucasian</td>\n",
       "      <td>12.0</td>\n",
       "      <td>1</td>\n",
       "      <td>1</td>\n",
       "    </tr>\n",
       "    <tr>\n",
       "      <th>4</th>\n",
       "      <td>82637451</td>\n",
       "      <td>Male</td>\n",
       "      <td>Caucasian</td>\n",
       "      <td>3.0</td>\n",
       "      <td>0</td>\n",
       "      <td>0</td>\n",
       "    </tr>\n",
       "    <tr>\n",
       "      <th>6</th>\n",
       "      <td>85504905</td>\n",
       "      <td>Female</td>\n",
       "      <td>Caucasian</td>\n",
       "      <td>7.0</td>\n",
       "      <td>0</td>\n",
       "      <td>1</td>\n",
       "    </tr>\n",
       "    <tr>\n",
       "      <th>13</th>\n",
       "      <td>92519352</td>\n",
       "      <td>Male</td>\n",
       "      <td>AfricanAmerican</td>\n",
       "      <td>4.0</td>\n",
       "      <td>0</td>\n",
       "      <td>0</td>\n",
       "    </tr>\n",
       "  </tbody>\n",
       "</table>\n",
       "</div>"
      ],
      "text/plain": [
       "    patient_nbr  gender             race  time_in_hospital  score  label_value\n",
       "0      48330783  Female        Caucasian              13.0      1            1\n",
       "1      63555939  Female        Caucasian              12.0      1            1\n",
       "4      82637451    Male        Caucasian               3.0      0            0\n",
       "6      85504905  Female        Caucasian               7.0      0            1\n",
       "13     92519352    Male  AfricanAmerican               4.0      0            0"
      ]
     },
     "execution_count": 57,
     "metadata": {},
     "output_type": "execute_result"
    }
   ],
   "source": [
    "pred_test_df[['patient_nbr', 'gender', 'race', 'time_in_hospital', 'score', 'label_value']].head()"
   ]
  },
  {
   "cell_type": "markdown",
   "metadata": {},
   "source": [
    "## Model Evaluation Metrics "
   ]
  },
  {
   "cell_type": "markdown",
   "metadata": {},
   "source": [
    "**Question 11**: Now it is time to use the newly created binary labels in the 'pred_test_df' dataframe to evaluate the model with some common classification metrics. Please create a report summary of the performance of the model and be sure to give the ROC AUC, F1 score(weighted), class precision and recall scores. "
   ]
  },
  {
   "cell_type": "markdown",
   "metadata": {},
   "source": [
    "For the report please be sure to include the following three parts:\n",
    "- With a non-technical audience in mind, explain the precision-recall tradeoff in regard to how you have optimized your model.\n",
    "\n",
    "- What are some areas of improvement for future iterations?"
   ]
  },
  {
   "cell_type": "code",
   "execution_count": 58,
   "metadata": {},
   "outputs": [
    {
     "name": "stdout",
     "output_type": "stream",
     "text": [
      "AUC:  0.6974498229043683\n",
      "F1:  0.6256547691558046\n",
      "Precision:  0.6405587428286356\n",
      "Recall:  0.6114285714285714\n",
      "              precision    recall  f1-score   support\n",
      "\n",
      "           0       0.76      0.78      0.77      6655\n",
      "           1       0.64      0.61      0.63      4200\n",
      "\n",
      "    accuracy                           0.72     10855\n",
      "   macro avg       0.70      0.70      0.70     10855\n",
      "weighted avg       0.71      0.72      0.72     10855\n",
      "\n",
      "[[5214 1441]\n",
      " [1632 2568]]\n"
     ]
    }
   ],
   "source": [
    "# AUC, F1, precision and recall\n",
    "from sklearn.metrics import roc_auc_score, f1_score, precision_score, recall_score, classification_report, confusion_matrix\n",
    "\n",
    "def calculate_classification_metrics(y, yhat):\n",
    "    auc = roc_auc_score(y, yhat)\n",
    "    f1 = f1_score(y, yhat)\n",
    "    precision = precision_score(y, yhat)\n",
    "    recall = recall_score(y, yhat)\n",
    "    return auc, f1, precision, recall\n",
    "\n",
    "auc, f1, precision, recall = calculate_classification_metrics(pred_test_df['label_value'], pred_test_df['score'])\n",
    "\n",
    "print(\"AUC: \", auc)\n",
    "print(\"F1: \", f1)\n",
    "print(\"Precision: \", precision)\n",
    "print(\"Recall: \", recall)\n",
    "print(classification_report(pred_test_df['label_value'], pred_test_df['score']))\n",
    "print(confusion_matrix(pred_test_df['label_value'], pred_test_df['score']))\n"
   ]
  },
  {
   "cell_type": "markdown",
   "metadata": {},
   "source": [
    "### Summary\n",
    "Our model has been trained to predict hospital stay time in order to focus on relevant patients for our diabetes drug test group. While optimizing the model, we had to balance bias and variance, meaning we had to find the right balance between accuracy and reliability. This means the model must be precise with the data that we have, but also perform well when making predictions on new, unseen data. The specific metrics that we used were precision (the ratio of true positive predictions to the total number of positive predicitons), recall (the ration of true positive predictions to the actual positive cases), and the F1 score (which is the harmonic mean between precision and recall). When trying to balance precision and recall, since there is a tradeoff between these, this means if we optimize for precision, this will increase the number of true positive predictions, but this may result in a decrease in the recall score. Conversely, by optimizing the model for recall, we are increasing the number of true positive predictions, but this may result in a decrease in the precision score. The F1 score is a useful metric that balances both precision and recall, and this has been used as well to optimize the model.\n",
    "\n",
    "Details of metrics used:\n",
    "- True Positives (TP): Correctly predicted positive cases \n",
    "- False Positives (FP): Incorrectly predicted positive cases \n",
    "- False Negatives (FN): Incorrectly predicted negative cases\n",
    "- Precision: $Precision = \\frac{TP}{TP + FP}$\n",
    "- Recall: $Recall = \\frac{TP}{TP + FN}$\n",
    "- F1 Score: $F1 = 2 \\times \\frac{Precision \\times Recall}{Precision + Recall}$\n",
    "\n",
    "For future iterations, some areas of improvement include:\n",
    "- Collecting more data: Collecting more data can help improve the model's performance by providing more examples to learn from.\n",
    "- Ensuring more balanced/fair/less-biased data: Ensuring that the dataset is balanced and representative of the population can help improve the model's performance and reduce bias.\n",
    "- Optimizing hyperparameters: Tuning the hyperparameters of the model can help improve the model's performance and generalization to unseen data.\n",
    "- Adjusting model architecture: Experimenting with different model architectures can help improve the model's performance and generalization."
   ]
  },
  {
   "cell_type": "markdown",
   "metadata": {},
   "source": [
    "# 7. Evaluating Potential Model Biases with Aequitas Toolkit"
   ]
  },
  {
   "cell_type": "markdown",
   "metadata": {},
   "source": [
    "## Prepare Data For Aequitas Bias Toolkit "
   ]
  },
  {
   "cell_type": "markdown",
   "metadata": {},
   "source": [
    "Using the gender and race fields, we will prepare the data for the Aequitas Toolkit."
   ]
  },
  {
   "cell_type": "code",
   "execution_count": 59,
   "metadata": {},
   "outputs": [],
   "source": [
    "# Aequitas\n",
    "from aequitas.preprocessing import preprocess_input_df\n",
    "from aequitas.group import Group\n",
    "from aequitas.plotting import Plot\n",
    "from aequitas.bias import Bias\n",
    "from aequitas.fairness import Fairness\n",
    "\n",
    "ae_subset_df = pred_test_df[['race', 'gender', 'score', 'label_value']]\n",
    "ae_df, _ = preprocess_input_df(ae_subset_df)\n",
    "g = Group()\n",
    "xtab, _ = g.get_crosstabs(ae_df)\n",
    "absolute_metrics = g.list_absolute_metrics(xtab)\n",
    "clean_xtab = xtab.fillna(-1)\n",
    "aqp = Plot()\n",
    "b = Bias()\n"
   ]
  },
  {
   "cell_type": "markdown",
   "metadata": {},
   "source": [
    "## Reference Group Selection"
   ]
  },
  {
   "cell_type": "markdown",
   "metadata": {},
   "source": [
    "Below we have chosen the reference group for our analysis but feel free to select another one."
   ]
  },
  {
   "cell_type": "code",
   "execution_count": 60,
   "metadata": {},
   "outputs": [],
   "source": [
    "# test reference group with Caucasian Male\n",
    "bdf = b.get_disparity_predefined_groups(clean_xtab, \n",
    "                    original_df=ae_df, \n",
    "                    ref_groups_dict={'race':'Caucasian', 'gender':'Male'\n",
    "                                     }, \n",
    "                    alpha=0.05, \n",
    "                    check_significance=False)\n",
    "\n",
    "\n",
    "f = Fairness()\n",
    "fdf = f.get_group_value_fairness(bdf)"
   ]
  },
  {
   "cell_type": "markdown",
   "metadata": {},
   "source": [
    "## Race and Gender Bias Analysis for Patient Selection"
   ]
  },
  {
   "cell_type": "markdown",
   "metadata": {},
   "source": [
    "**Question 12**: For the gender and race fields, please plot two metrics that are important for patient selection below and state whether there is a significant bias in your model across any of the groups along with justification for your statement."
   ]
  },
  {
   "cell_type": "code",
   "execution_count": 61,
   "metadata": {},
   "outputs": [],
   "source": [
    "# Plot two metrics\n",
    "\n",
    "# Is there significant bias in your model for either race or gender?\n",
    "# Student Response: There is no significant bias for gender, but there is significant bias for race, with Caucausion being overrepresented, and other races being underrepresented."
   ]
  },
  {
   "cell_type": "code",
   "execution_count": 62,
   "metadata": {},
   "outputs": [
    {
     "data": {
      "image/png": "[encoded data removed]",
      "text/plain": [
       "<Figure size 2500x600 with 2 Axes>"
      ]
     },
     "metadata": {},
     "output_type": "display_data"
    },
    {
     "data": {
      "text/plain": [
       "<Figure size 640x480 with 0 Axes>"
      ]
     },
     "metadata": {},
     "output_type": "display_data"
    }
   ],
   "source": [
    "p = aqp.plot_group_metric_all(xtab, metrics=['tpr', 'fpr'], ncols=2)"
   ]
  },
  {
   "cell_type": "markdown",
   "metadata": {},
   "source": [
    "## Fairness Analysis Example - Relative to a Reference Group "
   ]
  },
  {
   "cell_type": "markdown",
   "metadata": {},
   "source": [
    "**Question 13**: Earlier we defined our reference group and then calculated disparity metrics relative to this grouping. Please provide a visualization of the fairness evaluation for this reference group and analyze whether there is disparity."
   ]
  },
  {
   "cell_type": "code",
   "execution_count": 64,
   "metadata": {},
   "outputs": [
    {
     "data": {
      "image/png": "[encoded data removed]",
      "text/plain": [
       "<Figure size 500x400 with 2 Axes>"
      ]
     },
     "metadata": {},
     "output_type": "display_data"
    }
   ],
   "source": [
    "# Reference group fairness plot\n",
    "tpr_disparity = aqp.plot_disparity(bdf, group_metric='tpr_disparity', attribute_name='race', significance_alpha=0.05)"
   ]
  },
  {
   "cell_type": "markdown",
   "metadata": {},
   "source": [
    "Student Response:\n",
    "\n",
    "By plotting the reference group fairness for race, it is clear that there is a disparity in the model predictions across different groups. Our reference group is 'Caucasian Male', and the disparity metrics show that there is a significant difference in the model predictions for the reference group compared to other groups, which is an indication of model bias."
   ]
  },
  {
   "cell_type": "markdown",
   "metadata": {},
   "source": []
  }
 ],
 "metadata": {
  "kernelspec": {
   "display_name": "Python 3 (ipykernel)",
   "language": "python",
   "name": "python3"
  }
 },
 "nbformat": 4,
 "nbformat_minor": 2
}
