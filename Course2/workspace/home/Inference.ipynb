{
 "cells": [
  {
   "cell_type": "code",
   "execution_count": 1,
   "metadata": {
    "ExecuteTime": {
     "end_time": "2024-11-23T20:58:24.202329Z",
     "start_time": "2024-11-23T20:58:24.185813Z"
    }
   },
   "outputs": [],
   "source": [
    "import numpy as np\n",
    "import pandas as pd\n",
    "import pydicom\n",
    "from keras.saving.model_config import model_from_json\n",
    "%matplotlib inline"
   ]
  },
  {
   "cell_type": "code",
   "execution_count": 2,
   "metadata": {
    "ExecuteTime": {
     "end_time": "2024-11-23T20:58:24.248271Z",
     "start_time": "2024-11-23T20:58:24.235745Z"
    }
   },
   "outputs": [],
   "source": [
    "# This function reads in a .dcm file, checks the important fields for our device, and returns a numpy array\n",
    "# of just the imaging data\n",
    "def check_dicom(filename): \n",
    "    print(f'Load file {filename} ...')\n",
    "    ds = pydicom.dcmread(filename)\n",
    "    img = ds.pixel_array\n",
    "    img_mean = img.mean()\n",
    "    img_std = img.std()\n",
    "    img_type = ds.Modality\n",
    "    img_position = ds.PatientPosition\n",
    "    img_body_part = ds.BodyPartExamined\n",
    "    patient_age = ds.PatientAge\n",
    "    min_age = 1\n",
    "    max_age = 90\n",
    "\n",
    "    if img_type != 'DX':\n",
    "        print(f'Image type not DX, but {img_type}')\n",
    "        return None, None, None\n",
    "    if img_position not in ['AP', 'PA']:\n",
    "        print(f'Patient position not AP or PA, but {img_position}')\n",
    "        return None, None, None\n",
    "    if img_body_part != 'CHEST':\n",
    "        print(f'Body part not CHEST, but {img_body_part}')\n",
    "        return None, None, None\n",
    "    if not min_age <= int(patient_age) <= max_age:\n",
    "        print(f'Patient age not in range {min_age}-{max_age}, but {patient_age}')\n",
    "        return None, None, None\n",
    "    \n",
    "\n",
    "    # Print relevant fields\n",
    "    print(f\"Image position: {ds.PatientPosition}\")\n",
    "    print(f\"Image type: {ds.Modality}\")\n",
    "    print(f\"Body part examined: {ds.BodyPartExamined}\")\n",
    "    print(f\"Study description: {ds.StudyDescription}\")\n",
    "    print(f\"image mean: {img_mean}\")\n",
    "    print(f\"image std: {img_std}\")\n",
    "\n",
    "    return ds.pixel_array, img_mean, img_std\n",
    "    \n",
    "    \n",
    "# This function takes the numpy array output by check_dicom and \n",
    "# runs the appropriate pre-processing needed for our model input\n",
    "def preprocess_image(img,img_mean,img_std,img_size):\n",
    "    proc_img = img\n",
    "    proc_img = (proc_img - img_mean) / img_std\n",
    "    proc_img = np.resize(proc_img, img_size)\n",
    "\n",
    "    return proc_img\n",
    "\n",
    "# This function loads in our trained model w/ weights and compiles it \n",
    "def load_model(model_path, weight_path):\n",
    "    with open(model_path, 'r') as json_file:\n",
    "        model = model_from_json(json_file.read())\n",
    "    model.load_weights(weight_path)\n",
    "\n",
    "    return model\n",
    "\n",
    "# This function uses our device's threshold parameters to predict whether or not\n",
    "# the image shows the presence of pneumonia using our trained model\n",
    "def predict_image(model, img, thresh):\n",
    "    prediction = model.predict(img)\n",
    "\n",
    "    return prediction > thresh"
   ]
  },
  {
   "cell_type": "code",
   "execution_count": 3,
   "metadata": {
    "ExecuteTime": {
     "end_time": "2024-11-23T20:58:25.203069Z",
     "start_time": "2024-11-23T20:58:24.256270Z"
    }
   },
   "outputs": [
    {
     "name": "stdout",
     "output_type": "stream",
     "text": [
      "Load file test1.dcm ...\n",
      "Image position: PA\n",
      "Image type: DX\n",
      "Body part examined: CHEST\n",
      "Study description: No Finding\n",
      "image mean: 180.0586576461792\n",
      "image std: 47.89115072730743\n",
      "1/1 [==============================] - 1s 947ms/step\n",
      "[[False]]\n",
      "Load file test2.dcm ...\n",
      "Image position: AP\n",
      "Image type: DX\n",
      "Body part examined: CHEST\n",
      "Study description: Cardiomegaly\n",
      "image mean: 128.13570880889893\n",
      "image std: 67.42323200014457\n",
      "1/1 [==============================] - 0s 19ms/step\n",
      "[[ True]]\n",
      "Load file test3.dcm ...\n",
      "Image position: AP\n",
      "Image type: DX\n",
      "Body part examined: CHEST\n",
      "Study description: Effusion\n",
      "image mean: 104.74800395965576\n",
      "image std: 66.22413614301003\n",
      "1/1 [==============================] - 0s 18ms/step\n",
      "[[ True]]\n",
      "Load file test4.dcm ...\n",
      "Body part not CHEST, but RIBCAGE\n",
      "Load file test5.dcm ...\n",
      "Image type not DX, but CT\n",
      "Load file test6.dcm ...\n",
      "Patient position not AP or PA, but XX\n"
     ]
    }
   ],
   "source": [
    "test_dicoms = ['test1.dcm','test2.dcm','test3.dcm','test4.dcm','test5.dcm','test6.dcm']\n",
    "\n",
    "model_path = \"my_model.json\"\n",
    "weight_path = \"xray_class_my_model.best.weights.h5\"\n",
    "\n",
    "IMG_SIZE=(1,224,224,3) # This might be different if you did not use vgg16\n",
    "img_mean = 0 # loads the mean image value they used during training preprocessing\n",
    "img_std = 0 # loads the std dev image value they used during training preprocessing\n",
    "\n",
    "my_model = load_model(model_path, weight_path) #loads model\n",
    "thresh = 0.6 #loads the threshold they chose for model classification\n",
    "\n",
    "# use the .dcm files to test your prediction\n",
    "for i in test_dicoms:\n",
    "    img, img_mean, img_std = check_dicom(i)\n",
    "    \n",
    "    if img is None:\n",
    "        continue\n",
    "        \n",
    "    img_proc = preprocess_image(img, img_mean, img_std, IMG_SIZE)\n",
    "    print(predict_image(my_model, img_proc, thresh))"
   ]
  },
  {
   "cell_type": "code",
   "execution_count": null,
   "metadata": {
    "ExecuteTime": {
     "end_time": "2024-11-23T20:58:25.557239Z",
     "start_time": "2024-11-23T20:58:25.548230Z"
    }
   },
   "outputs": [],
   "source": []
  }
 ],
 "metadata": {
  "kernelspec": {
   "display_name": "Python 3",
   "language": "python",
   "name": "python3"
  },
  "language_info": {
   "codemirror_mode": {
    "name": "ipython",
    "version": 3
   },
   "file_extension": ".py",
   "mimetype": "text/x-python",
   "name": "python",
   "nbconvert_exporter": "python",
   "pygments_lexer": "ipython3",
   "version": "3.7.6"
  }
 },
 "nbformat": 4,
 "nbformat_minor": 4
}
